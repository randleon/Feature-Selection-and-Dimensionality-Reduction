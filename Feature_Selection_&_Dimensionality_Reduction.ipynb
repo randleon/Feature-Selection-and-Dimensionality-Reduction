{
 "cells": [
  {
   "cell_type": "markdown",
   "metadata": {},
   "source": [
    "<h3><center>Feature Selection & Dimension Reduction\n",
    "    <br>By Anna Imhoff and Randy Leon</h3></center>"
   ]
  },
  {
   "cell_type": "markdown",
   "metadata": {},
   "source": [
    "<h3><b>Introduction</b></h3>"
   ]
  },
  {
   "cell_type": "markdown",
   "metadata": {},
   "source": [
    "The [Online News Popularity Data Set](https://archive.ics.uci.edu/ml/datasets/Online+News+Popularity) used for this exercise is part of the [UCI Machine Learning Repository](https://archive.ics.uci.edu/ml/index.php).  First, we will upload the data set to our Github repository.  The original data set contains 39,644 observations and 61 attributes.  The response variable will be the number of shares.  Exploratory data analysis will be performed on the variables to familiarize us with the online news data set, identify trends and missing data, and gather preliminary predictive inferences.  The number of explanatory variables is relatively large with respect to the number of observations contained within a data set.  We will apply feature selection and/or dimensionality reduction techniques to identify the explanatory variables to be included within a linear regression model that predicts the number of times an online news article will be shared."
   ]
  },
  {
   "cell_type": "markdown",
   "metadata": {},
   "source": [
    "Data Dictionary\n",
    "\n",
    "1) url: URL of the article (non-predictive) <br>\n",
    "2) timedelta: Days between the article publication and the dataset acquisition (non-predictive) <br>\n",
    "3) n_tokens_title: Number of words in the title <br>\n",
    "4) n_tokens_content: Number of words in the content <br>\n",
    "5) n_unique_tokens: Rate of unique words in the content <br>\n",
    "6) n_non_stop_words: Rate of non-stop words in the content <br>Stopw ords are the most common words in any natural language.  They might not add much value to the meaning of the document.  Generally, the most common stop words used in a text are “the”, “is”, “in”, “for”, “where”, “when”, “to”, “at” etc. <br>\n",
    "Source: https://www.analyticsvidhya.com/blog/2019/08/how-to-remove-stopwords-text-normalization-nltk-spacy-gensim-python/<br>\n",
    "7) n_non_stop_unique_tokens: Rate of unique non-stop words in the content.  \n",
    "8) num_hrefs: Number of links <br>\n",
    "9) num_self_hrefs: Number of links to other articles published by Mashable <br>\n",
    "10) num_imgs: Number of images <br>\n",
    "11) num_videos: Number of videos <br>\n",
    "12) average_token_length: Average length of the words in the content <br>\n",
    "13) num_keywords: Number of keywords in the metadata <br>\n",
    "14) data_channel_is_lifestyle: Is data channel 'Lifestyle'? <br>\n",
    "15) data_channel_is_entertainment: Is data channel 'Entertainment'? <br>\n",
    "16) data_channel_is_bus: Is data channel 'Business'? <br>\n",
    "17) data_channel_is_socmed: Is data channel 'Social Media'? <br>\n",
    "18) data_channel_is_tech: Is data channel 'Tech'? <br>\n",
    "19) data_channel_is_world: Is data channel 'World'? <br>\n",
    "20) kw_min_min: Worst keyword (min. shares) <br>\n",
    "21) kw_max_min: Worst keyword (max. shares) <br>\n",
    "22) kw_avg_min: Worst keyword (avg. shares) <br>\n",
    "23) kw_min_max: Best keyword (min. shares) <br>\n",
    "24) kw_max_max: Best keyword (max. shares) <br>\n",
    "25) kw_avg_max: Best keyword (avg. shares) <br>\n",
    "26) kw_min_avg: Avg. keyword (min. shares) <br>\n",
    "27) kw_max_avg: Avg. keyword (max. shares) <br>\n",
    "28) kw_avg_avg: Avg. keyword (avg. shares) <br>\n",
    "29) self_reference_min_shares: Min. shares of referenced articles in Mashable <br>\n",
    "30) self_reference_max_shares: Max. shares of referenced articles in Mashable <br>\n",
    "31) self_reference_avg_sharess: Avg. shares of referenced articles in Mashable <br>\n",
    "32) weekday_is_monday: Was the article published on a Monday? <br>\n",
    "33) weekday_is_tuesday: Was the article published on a Tuesday? <br>\n",
    "34) weekday_is_wednesday: Was the article published on a Wednesday? <br>\n",
    "35) weekday_is_thursday: Was the article published on a Thursday? <br>\n",
    "36) weekday_is_friday: Was the article published on a Friday? <br>\n",
    "37) weekday_is_saturday: Was the article published on a Saturday? <br>\n",
    "38) weekday_is_sunday: Was the article published on a Sunday? <br>\n",
    "39) is_weekend: Was the article published on the weekend? <br>\n",
    "40) LDA_00: Closeness to LDA topic 0 <br>\n",
    "41) LDA_01: Closeness to LDA topic 1 <br>\n",
    "42) LDA_02: Closeness to LDA topic 2 <br>\n",
    "43) LDA_03: Closeness to LDA topic 3 <br>\n",
    "44) LDA_04: Closeness to LDA topic 4 <br>\n",
    "45) global_subjectivity: Text subjectivity <br>\n",
    "46) global_sentiment_polarity: Text sentiment polarity <br>\n",
    "47) global_rate_positive_words: Rate of positive words in the content <br>\n",
    "48) global_rate_negative_words: Rate of negative words in the content <br>\n",
    "49) rate_positive_words: Rate of positive words among non-neutral tokens <br>\n",
    "50) rate_negative_words: Rate of negative words among non-neutral tokens <br>\n",
    "51) avg_positive_polarity: Avg. polarity of positive words <br>\n",
    "52) min_positive_polarity: Min. polarity of positive words <br>\n",
    "53) max_positive_polarity: Max. polarity of positive words <br>\n",
    "54) avg_negative_polarity: Avg. polarity of negative words <br>\n",
    "55) min_negative_polarity: Min. polarity of negative words <br>\n",
    "56) max_negative_polarity: Max. polarity of negative words <br>\n",
    "57) title_subjectivity: Title subjectivity <br>\n",
    "58) title_sentiment_polarity: Title polarity <br>\n",
    "59) abs_title_subjectivity: Absolute subjectivity level <br>\n",
    "60) abs_title_sentiment_polarity: Absolute polarity level <br>\n",
    "61) shares: Number of shares (target) <br>"
   ]
  },
  {
   "cell_type": "code",
   "execution_count": 3,
   "metadata": {},
   "outputs": [
    {
     "data": {
      "text/html": [
       "<div>\n",
       "<style scoped>\n",
       "    .dataframe tbody tr th:only-of-type {\n",
       "        vertical-align: middle;\n",
       "    }\n",
       "\n",
       "    .dataframe tbody tr th {\n",
       "        vertical-align: top;\n",
       "    }\n",
       "\n",
       "    .dataframe thead th {\n",
       "        text-align: right;\n",
       "    }\n",
       "</style>\n",
       "<table border=\"1\" class=\"dataframe\">\n",
       "  <thead>\n",
       "    <tr style=\"text-align: right;\">\n",
       "      <th></th>\n",
       "      <th>url</th>\n",
       "      <th>timedelta</th>\n",
       "      <th>n_tokens_title</th>\n",
       "      <th>n_tokens_content</th>\n",
       "      <th>n_unique_tokens</th>\n",
       "      <th>n_non_stop_words</th>\n",
       "      <th>n_non_stop_unique_tokens</th>\n",
       "      <th>num_hrefs</th>\n",
       "      <th>num_self_hrefs</th>\n",
       "      <th>num_imgs</th>\n",
       "      <th>...</th>\n",
       "      <th>min_positive_polarity</th>\n",
       "      <th>max_positive_polarity</th>\n",
       "      <th>avg_negative_polarity</th>\n",
       "      <th>min_negative_polarity</th>\n",
       "      <th>max_negative_polarity</th>\n",
       "      <th>title_subjectivity</th>\n",
       "      <th>title_sentiment_polarity</th>\n",
       "      <th>abs_title_subjectivity</th>\n",
       "      <th>abs_title_sentiment_polarity</th>\n",
       "      <th>shares</th>\n",
       "    </tr>\n",
       "  </thead>\n",
       "  <tbody>\n",
       "    <tr>\n",
       "      <th>0</th>\n",
       "      <td>http://mashable.com/2013/01/07/amazon-instant-...</td>\n",
       "      <td>731</td>\n",
       "      <td>12</td>\n",
       "      <td>219</td>\n",
       "      <td>0.663594</td>\n",
       "      <td>1.0</td>\n",
       "      <td>0.815385</td>\n",
       "      <td>4</td>\n",
       "      <td>2</td>\n",
       "      <td>1</td>\n",
       "      <td>...</td>\n",
       "      <td>0.100000</td>\n",
       "      <td>0.7</td>\n",
       "      <td>-0.350000</td>\n",
       "      <td>-0.600</td>\n",
       "      <td>-0.200000</td>\n",
       "      <td>0.500000</td>\n",
       "      <td>-0.187500</td>\n",
       "      <td>0.000000</td>\n",
       "      <td>0.187500</td>\n",
       "      <td>593</td>\n",
       "    </tr>\n",
       "    <tr>\n",
       "      <th>1</th>\n",
       "      <td>http://mashable.com/2013/01/07/ap-samsung-spon...</td>\n",
       "      <td>731</td>\n",
       "      <td>9</td>\n",
       "      <td>255</td>\n",
       "      <td>0.604743</td>\n",
       "      <td>1.0</td>\n",
       "      <td>0.791946</td>\n",
       "      <td>3</td>\n",
       "      <td>1</td>\n",
       "      <td>1</td>\n",
       "      <td>...</td>\n",
       "      <td>0.033333</td>\n",
       "      <td>0.7</td>\n",
       "      <td>-0.118750</td>\n",
       "      <td>-0.125</td>\n",
       "      <td>-0.100000</td>\n",
       "      <td>0.000000</td>\n",
       "      <td>0.000000</td>\n",
       "      <td>0.500000</td>\n",
       "      <td>0.000000</td>\n",
       "      <td>711</td>\n",
       "    </tr>\n",
       "    <tr>\n",
       "      <th>2</th>\n",
       "      <td>http://mashable.com/2013/01/07/apple-40-billio...</td>\n",
       "      <td>731</td>\n",
       "      <td>9</td>\n",
       "      <td>211</td>\n",
       "      <td>0.575130</td>\n",
       "      <td>1.0</td>\n",
       "      <td>0.663866</td>\n",
       "      <td>3</td>\n",
       "      <td>1</td>\n",
       "      <td>1</td>\n",
       "      <td>...</td>\n",
       "      <td>0.100000</td>\n",
       "      <td>1.0</td>\n",
       "      <td>-0.466667</td>\n",
       "      <td>-0.800</td>\n",
       "      <td>-0.133333</td>\n",
       "      <td>0.000000</td>\n",
       "      <td>0.000000</td>\n",
       "      <td>0.500000</td>\n",
       "      <td>0.000000</td>\n",
       "      <td>1500</td>\n",
       "    </tr>\n",
       "    <tr>\n",
       "      <th>3</th>\n",
       "      <td>http://mashable.com/2013/01/07/astronaut-notre...</td>\n",
       "      <td>731</td>\n",
       "      <td>9</td>\n",
       "      <td>531</td>\n",
       "      <td>0.503788</td>\n",
       "      <td>1.0</td>\n",
       "      <td>0.665635</td>\n",
       "      <td>9</td>\n",
       "      <td>0</td>\n",
       "      <td>1</td>\n",
       "      <td>...</td>\n",
       "      <td>0.136364</td>\n",
       "      <td>0.8</td>\n",
       "      <td>-0.369697</td>\n",
       "      <td>-0.600</td>\n",
       "      <td>-0.166667</td>\n",
       "      <td>0.000000</td>\n",
       "      <td>0.000000</td>\n",
       "      <td>0.500000</td>\n",
       "      <td>0.000000</td>\n",
       "      <td>1200</td>\n",
       "    </tr>\n",
       "    <tr>\n",
       "      <th>4</th>\n",
       "      <td>http://mashable.com/2013/01/07/att-u-verse-apps/</td>\n",
       "      <td>731</td>\n",
       "      <td>13</td>\n",
       "      <td>1072</td>\n",
       "      <td>0.415646</td>\n",
       "      <td>1.0</td>\n",
       "      <td>0.540890</td>\n",
       "      <td>19</td>\n",
       "      <td>19</td>\n",
       "      <td>20</td>\n",
       "      <td>...</td>\n",
       "      <td>0.033333</td>\n",
       "      <td>1.0</td>\n",
       "      <td>-0.220192</td>\n",
       "      <td>-0.500</td>\n",
       "      <td>-0.050000</td>\n",
       "      <td>0.454545</td>\n",
       "      <td>0.136364</td>\n",
       "      <td>0.045455</td>\n",
       "      <td>0.136364</td>\n",
       "      <td>505</td>\n",
       "    </tr>\n",
       "  </tbody>\n",
       "</table>\n",
       "<p>5 rows × 61 columns</p>\n",
       "</div>"
      ],
      "text/plain": [
       "                                                 url   timedelta  \\\n",
       "0  http://mashable.com/2013/01/07/amazon-instant-...         731   \n",
       "1  http://mashable.com/2013/01/07/ap-samsung-spon...         731   \n",
       "2  http://mashable.com/2013/01/07/apple-40-billio...         731   \n",
       "3  http://mashable.com/2013/01/07/astronaut-notre...         731   \n",
       "4   http://mashable.com/2013/01/07/att-u-verse-apps/         731   \n",
       "\n",
       "    n_tokens_title   n_tokens_content   n_unique_tokens   n_non_stop_words  \\\n",
       "0               12                219          0.663594                1.0   \n",
       "1                9                255          0.604743                1.0   \n",
       "2                9                211          0.575130                1.0   \n",
       "3                9                531          0.503788                1.0   \n",
       "4               13               1072          0.415646                1.0   \n",
       "\n",
       "    n_non_stop_unique_tokens   num_hrefs   num_self_hrefs   num_imgs  ...  \\\n",
       "0                   0.815385           4                2          1  ...   \n",
       "1                   0.791946           3                1          1  ...   \n",
       "2                   0.663866           3                1          1  ...   \n",
       "3                   0.665635           9                0          1  ...   \n",
       "4                   0.540890          19               19         20  ...   \n",
       "\n",
       "    min_positive_polarity   max_positive_polarity   avg_negative_polarity  \\\n",
       "0                0.100000                     0.7               -0.350000   \n",
       "1                0.033333                     0.7               -0.118750   \n",
       "2                0.100000                     1.0               -0.466667   \n",
       "3                0.136364                     0.8               -0.369697   \n",
       "4                0.033333                     1.0               -0.220192   \n",
       "\n",
       "    min_negative_polarity   max_negative_polarity   title_subjectivity  \\\n",
       "0                  -0.600               -0.200000             0.500000   \n",
       "1                  -0.125               -0.100000             0.000000   \n",
       "2                  -0.800               -0.133333             0.000000   \n",
       "3                  -0.600               -0.166667             0.000000   \n",
       "4                  -0.500               -0.050000             0.454545   \n",
       "\n",
       "    title_sentiment_polarity   abs_title_subjectivity  \\\n",
       "0                  -0.187500                 0.000000   \n",
       "1                   0.000000                 0.500000   \n",
       "2                   0.000000                 0.500000   \n",
       "3                   0.000000                 0.500000   \n",
       "4                   0.136364                 0.045455   \n",
       "\n",
       "    abs_title_sentiment_polarity   shares  \n",
       "0                       0.187500      593  \n",
       "1                       0.000000      711  \n",
       "2                       0.000000     1500  \n",
       "3                       0.000000     1200  \n",
       "4                       0.136364      505  \n",
       "\n",
       "[5 rows x 61 columns]"
      ]
     },
     "execution_count": 3,
     "metadata": {},
     "output_type": "execute_result"
    }
   ],
   "source": [
    "#Import libraries\n",
    "import pandas as pd\n",
    "import numpy as np\n",
    "import seaborn as sns\n",
    "import matplotlib.pylab as plt\n",
    "%matplotlib inline\n",
    "import warnings\n",
    "warnings.filterwarnings(\"ignore\")\n",
    "\n",
    "#Read in the csv from github\n",
    "df = pd.read_csv(\"https://raw.githubusercontent.com/annaimhoff/DAV-6150/main/M4_Data.csv\", sep=',')\n",
    "                 \n",
    "#View the data frame to ensure that the desired columns were selected\n",
    "df.head()"
   ]
  },
  {
   "cell_type": "code",
   "execution_count": 4,
   "metadata": {},
   "outputs": [
    {
     "data": {
      "text/html": [
       "<div>\n",
       "<style scoped>\n",
       "    .dataframe tbody tr th:only-of-type {\n",
       "        vertical-align: middle;\n",
       "    }\n",
       "\n",
       "    .dataframe tbody tr th {\n",
       "        vertical-align: top;\n",
       "    }\n",
       "\n",
       "    .dataframe thead th {\n",
       "        text-align: right;\n",
       "    }\n",
       "</style>\n",
       "<table border=\"1\" class=\"dataframe\">\n",
       "  <thead>\n",
       "    <tr style=\"text-align: right;\">\n",
       "      <th></th>\n",
       "      <th>n_tokens_title</th>\n",
       "      <th>n_tokens_content</th>\n",
       "      <th>n_unique_tokens</th>\n",
       "      <th>n_non_stop_words</th>\n",
       "      <th>n_non_stop_unique_tokens</th>\n",
       "      <th>num_hrefs</th>\n",
       "      <th>num_self_hrefs</th>\n",
       "      <th>num_imgs</th>\n",
       "      <th>num_videos</th>\n",
       "      <th>average_token_length</th>\n",
       "      <th>...</th>\n",
       "      <th>min_positive_polarity</th>\n",
       "      <th>max_positive_polarity</th>\n",
       "      <th>avg_negative_polarity</th>\n",
       "      <th>min_negative_polarity</th>\n",
       "      <th>max_negative_polarity</th>\n",
       "      <th>title_subjectivity</th>\n",
       "      <th>title_sentiment_polarity</th>\n",
       "      <th>abs_title_subjectivity</th>\n",
       "      <th>abs_title_sentiment_polarity</th>\n",
       "      <th>shares</th>\n",
       "    </tr>\n",
       "  </thead>\n",
       "  <tbody>\n",
       "    <tr>\n",
       "      <th>0</th>\n",
       "      <td>12</td>\n",
       "      <td>219</td>\n",
       "      <td>0.663594</td>\n",
       "      <td>1.0</td>\n",
       "      <td>0.815385</td>\n",
       "      <td>4</td>\n",
       "      <td>2</td>\n",
       "      <td>1</td>\n",
       "      <td>0</td>\n",
       "      <td>4.680365</td>\n",
       "      <td>...</td>\n",
       "      <td>0.100000</td>\n",
       "      <td>0.7</td>\n",
       "      <td>-0.350000</td>\n",
       "      <td>-0.600</td>\n",
       "      <td>-0.200000</td>\n",
       "      <td>0.500000</td>\n",
       "      <td>-0.187500</td>\n",
       "      <td>0.000000</td>\n",
       "      <td>0.187500</td>\n",
       "      <td>593</td>\n",
       "    </tr>\n",
       "    <tr>\n",
       "      <th>1</th>\n",
       "      <td>9</td>\n",
       "      <td>255</td>\n",
       "      <td>0.604743</td>\n",
       "      <td>1.0</td>\n",
       "      <td>0.791946</td>\n",
       "      <td>3</td>\n",
       "      <td>1</td>\n",
       "      <td>1</td>\n",
       "      <td>0</td>\n",
       "      <td>4.913725</td>\n",
       "      <td>...</td>\n",
       "      <td>0.033333</td>\n",
       "      <td>0.7</td>\n",
       "      <td>-0.118750</td>\n",
       "      <td>-0.125</td>\n",
       "      <td>-0.100000</td>\n",
       "      <td>0.000000</td>\n",
       "      <td>0.000000</td>\n",
       "      <td>0.500000</td>\n",
       "      <td>0.000000</td>\n",
       "      <td>711</td>\n",
       "    </tr>\n",
       "    <tr>\n",
       "      <th>2</th>\n",
       "      <td>9</td>\n",
       "      <td>211</td>\n",
       "      <td>0.575130</td>\n",
       "      <td>1.0</td>\n",
       "      <td>0.663866</td>\n",
       "      <td>3</td>\n",
       "      <td>1</td>\n",
       "      <td>1</td>\n",
       "      <td>0</td>\n",
       "      <td>4.393365</td>\n",
       "      <td>...</td>\n",
       "      <td>0.100000</td>\n",
       "      <td>1.0</td>\n",
       "      <td>-0.466667</td>\n",
       "      <td>-0.800</td>\n",
       "      <td>-0.133333</td>\n",
       "      <td>0.000000</td>\n",
       "      <td>0.000000</td>\n",
       "      <td>0.500000</td>\n",
       "      <td>0.000000</td>\n",
       "      <td>1500</td>\n",
       "    </tr>\n",
       "    <tr>\n",
       "      <th>3</th>\n",
       "      <td>9</td>\n",
       "      <td>531</td>\n",
       "      <td>0.503788</td>\n",
       "      <td>1.0</td>\n",
       "      <td>0.665635</td>\n",
       "      <td>9</td>\n",
       "      <td>0</td>\n",
       "      <td>1</td>\n",
       "      <td>0</td>\n",
       "      <td>4.404896</td>\n",
       "      <td>...</td>\n",
       "      <td>0.136364</td>\n",
       "      <td>0.8</td>\n",
       "      <td>-0.369697</td>\n",
       "      <td>-0.600</td>\n",
       "      <td>-0.166667</td>\n",
       "      <td>0.000000</td>\n",
       "      <td>0.000000</td>\n",
       "      <td>0.500000</td>\n",
       "      <td>0.000000</td>\n",
       "      <td>1200</td>\n",
       "    </tr>\n",
       "    <tr>\n",
       "      <th>4</th>\n",
       "      <td>13</td>\n",
       "      <td>1072</td>\n",
       "      <td>0.415646</td>\n",
       "      <td>1.0</td>\n",
       "      <td>0.540890</td>\n",
       "      <td>19</td>\n",
       "      <td>19</td>\n",
       "      <td>20</td>\n",
       "      <td>0</td>\n",
       "      <td>4.682836</td>\n",
       "      <td>...</td>\n",
       "      <td>0.033333</td>\n",
       "      <td>1.0</td>\n",
       "      <td>-0.220192</td>\n",
       "      <td>-0.500</td>\n",
       "      <td>-0.050000</td>\n",
       "      <td>0.454545</td>\n",
       "      <td>0.136364</td>\n",
       "      <td>0.045455</td>\n",
       "      <td>0.136364</td>\n",
       "      <td>505</td>\n",
       "    </tr>\n",
       "  </tbody>\n",
       "</table>\n",
       "<p>5 rows × 59 columns</p>\n",
       "</div>"
      ],
      "text/plain": [
       "    n_tokens_title   n_tokens_content   n_unique_tokens   n_non_stop_words  \\\n",
       "0               12                219          0.663594                1.0   \n",
       "1                9                255          0.604743                1.0   \n",
       "2                9                211          0.575130                1.0   \n",
       "3                9                531          0.503788                1.0   \n",
       "4               13               1072          0.415646                1.0   \n",
       "\n",
       "    n_non_stop_unique_tokens   num_hrefs   num_self_hrefs   num_imgs  \\\n",
       "0                   0.815385           4                2          1   \n",
       "1                   0.791946           3                1          1   \n",
       "2                   0.663866           3                1          1   \n",
       "3                   0.665635           9                0          1   \n",
       "4                   0.540890          19               19         20   \n",
       "\n",
       "    num_videos   average_token_length  ...   min_positive_polarity  \\\n",
       "0            0               4.680365  ...                0.100000   \n",
       "1            0               4.913725  ...                0.033333   \n",
       "2            0               4.393365  ...                0.100000   \n",
       "3            0               4.404896  ...                0.136364   \n",
       "4            0               4.682836  ...                0.033333   \n",
       "\n",
       "    max_positive_polarity   avg_negative_polarity   min_negative_polarity  \\\n",
       "0                     0.7               -0.350000                  -0.600   \n",
       "1                     0.7               -0.118750                  -0.125   \n",
       "2                     1.0               -0.466667                  -0.800   \n",
       "3                     0.8               -0.369697                  -0.600   \n",
       "4                     1.0               -0.220192                  -0.500   \n",
       "\n",
       "    max_negative_polarity   title_subjectivity   title_sentiment_polarity  \\\n",
       "0               -0.200000             0.500000                  -0.187500   \n",
       "1               -0.100000             0.000000                   0.000000   \n",
       "2               -0.133333             0.000000                   0.000000   \n",
       "3               -0.166667             0.000000                   0.000000   \n",
       "4               -0.050000             0.454545                   0.136364   \n",
       "\n",
       "    abs_title_subjectivity   abs_title_sentiment_polarity   shares  \n",
       "0                 0.000000                       0.187500      593  \n",
       "1                 0.500000                       0.000000      711  \n",
       "2                 0.500000                       0.000000     1500  \n",
       "3                 0.500000                       0.000000     1200  \n",
       "4                 0.045455                       0.136364      505  \n",
       "\n",
       "[5 rows x 59 columns]"
      ]
     },
     "execution_count": 4,
     "metadata": {},
     "output_type": "execute_result"
    }
   ],
   "source": [
    "#Drop the url and timedelta columns since they are non-predictive\n",
    "df = df.drop(df.columns[[0, 1]], axis=1)\n",
    "\n",
    "#View the data frame to ensure that the columns were removed\n",
    "df.head()"
   ]
  },
  {
   "cell_type": "markdown",
   "metadata": {},
   "source": [
    "<h3><b>Exploratory Data Analysis</b></h3>"
   ]
  },
  {
   "cell_type": "code",
   "execution_count": 5,
   "metadata": {},
   "outputs": [
    {
     "data": {
      "text/plain": [
       "(39644, 59)"
      ]
     },
     "execution_count": 5,
     "metadata": {},
     "output_type": "execute_result"
    }
   ],
   "source": [
    "#Find the number of rows and columns in the data set.\n",
    "df.shape"
   ]
  },
  {
   "cell_type": "code",
   "execution_count": 6,
   "metadata": {},
   "outputs": [
    {
     "data": {
      "text/html": [
       "<div>\n",
       "<style scoped>\n",
       "    .dataframe tbody tr th:only-of-type {\n",
       "        vertical-align: middle;\n",
       "    }\n",
       "\n",
       "    .dataframe tbody tr th {\n",
       "        vertical-align: top;\n",
       "    }\n",
       "\n",
       "    .dataframe thead th {\n",
       "        text-align: right;\n",
       "    }\n",
       "</style>\n",
       "<table border=\"1\" class=\"dataframe\">\n",
       "  <thead>\n",
       "    <tr style=\"text-align: right;\">\n",
       "      <th></th>\n",
       "      <th>n_tokens_title</th>\n",
       "      <th>n_tokens_content</th>\n",
       "      <th>n_unique_tokens</th>\n",
       "      <th>n_non_stop_words</th>\n",
       "      <th>n_non_stop_unique_tokens</th>\n",
       "      <th>num_hrefs</th>\n",
       "      <th>num_self_hrefs</th>\n",
       "      <th>num_imgs</th>\n",
       "      <th>num_videos</th>\n",
       "      <th>average_token_length</th>\n",
       "      <th>...</th>\n",
       "      <th>min_positive_polarity</th>\n",
       "      <th>max_positive_polarity</th>\n",
       "      <th>avg_negative_polarity</th>\n",
       "      <th>min_negative_polarity</th>\n",
       "      <th>max_negative_polarity</th>\n",
       "      <th>title_subjectivity</th>\n",
       "      <th>title_sentiment_polarity</th>\n",
       "      <th>abs_title_subjectivity</th>\n",
       "      <th>abs_title_sentiment_polarity</th>\n",
       "      <th>shares</th>\n",
       "    </tr>\n",
       "  </thead>\n",
       "  <tbody>\n",
       "    <tr>\n",
       "      <th>count</th>\n",
       "      <td>39644.000000</td>\n",
       "      <td>39644.000000</td>\n",
       "      <td>39644.000000</td>\n",
       "      <td>39644.000000</td>\n",
       "      <td>39644.000000</td>\n",
       "      <td>39644.000000</td>\n",
       "      <td>39644.000000</td>\n",
       "      <td>39644.000000</td>\n",
       "      <td>39644.000000</td>\n",
       "      <td>39644.000000</td>\n",
       "      <td>...</td>\n",
       "      <td>39644.000000</td>\n",
       "      <td>39644.000000</td>\n",
       "      <td>39644.000000</td>\n",
       "      <td>39644.000000</td>\n",
       "      <td>39644.000000</td>\n",
       "      <td>39644.000000</td>\n",
       "      <td>39644.000000</td>\n",
       "      <td>39644.000000</td>\n",
       "      <td>39644.000000</td>\n",
       "      <td>39644.000000</td>\n",
       "    </tr>\n",
       "    <tr>\n",
       "      <th>mean</th>\n",
       "      <td>10.398749</td>\n",
       "      <td>546.514731</td>\n",
       "      <td>0.548216</td>\n",
       "      <td>0.996469</td>\n",
       "      <td>0.689175</td>\n",
       "      <td>10.883690</td>\n",
       "      <td>3.293638</td>\n",
       "      <td>4.544143</td>\n",
       "      <td>1.249874</td>\n",
       "      <td>4.548239</td>\n",
       "      <td>...</td>\n",
       "      <td>0.095446</td>\n",
       "      <td>0.756728</td>\n",
       "      <td>-0.259524</td>\n",
       "      <td>-0.521944</td>\n",
       "      <td>-0.107500</td>\n",
       "      <td>0.282353</td>\n",
       "      <td>0.071425</td>\n",
       "      <td>0.341843</td>\n",
       "      <td>0.156064</td>\n",
       "      <td>3395.380184</td>\n",
       "    </tr>\n",
       "    <tr>\n",
       "      <th>std</th>\n",
       "      <td>2.114037</td>\n",
       "      <td>471.107508</td>\n",
       "      <td>3.520708</td>\n",
       "      <td>5.231231</td>\n",
       "      <td>3.264816</td>\n",
       "      <td>11.332017</td>\n",
       "      <td>3.855141</td>\n",
       "      <td>8.309434</td>\n",
       "      <td>4.107855</td>\n",
       "      <td>0.844406</td>\n",
       "      <td>...</td>\n",
       "      <td>0.071315</td>\n",
       "      <td>0.247786</td>\n",
       "      <td>0.127726</td>\n",
       "      <td>0.290290</td>\n",
       "      <td>0.095373</td>\n",
       "      <td>0.324247</td>\n",
       "      <td>0.265450</td>\n",
       "      <td>0.188791</td>\n",
       "      <td>0.226294</td>\n",
       "      <td>11626.950749</td>\n",
       "    </tr>\n",
       "    <tr>\n",
       "      <th>min</th>\n",
       "      <td>2.000000</td>\n",
       "      <td>0.000000</td>\n",
       "      <td>0.000000</td>\n",
       "      <td>0.000000</td>\n",
       "      <td>0.000000</td>\n",
       "      <td>0.000000</td>\n",
       "      <td>0.000000</td>\n",
       "      <td>0.000000</td>\n",
       "      <td>0.000000</td>\n",
       "      <td>0.000000</td>\n",
       "      <td>...</td>\n",
       "      <td>0.000000</td>\n",
       "      <td>0.000000</td>\n",
       "      <td>-1.000000</td>\n",
       "      <td>-1.000000</td>\n",
       "      <td>-1.000000</td>\n",
       "      <td>0.000000</td>\n",
       "      <td>-1.000000</td>\n",
       "      <td>0.000000</td>\n",
       "      <td>0.000000</td>\n",
       "      <td>1.000000</td>\n",
       "    </tr>\n",
       "    <tr>\n",
       "      <th>25%</th>\n",
       "      <td>9.000000</td>\n",
       "      <td>246.000000</td>\n",
       "      <td>0.470870</td>\n",
       "      <td>1.000000</td>\n",
       "      <td>0.625739</td>\n",
       "      <td>4.000000</td>\n",
       "      <td>1.000000</td>\n",
       "      <td>1.000000</td>\n",
       "      <td>0.000000</td>\n",
       "      <td>4.478404</td>\n",
       "      <td>...</td>\n",
       "      <td>0.050000</td>\n",
       "      <td>0.600000</td>\n",
       "      <td>-0.328383</td>\n",
       "      <td>-0.700000</td>\n",
       "      <td>-0.125000</td>\n",
       "      <td>0.000000</td>\n",
       "      <td>0.000000</td>\n",
       "      <td>0.166667</td>\n",
       "      <td>0.000000</td>\n",
       "      <td>946.000000</td>\n",
       "    </tr>\n",
       "    <tr>\n",
       "      <th>50%</th>\n",
       "      <td>10.000000</td>\n",
       "      <td>409.000000</td>\n",
       "      <td>0.539226</td>\n",
       "      <td>1.000000</td>\n",
       "      <td>0.690476</td>\n",
       "      <td>8.000000</td>\n",
       "      <td>3.000000</td>\n",
       "      <td>1.000000</td>\n",
       "      <td>0.000000</td>\n",
       "      <td>4.664082</td>\n",
       "      <td>...</td>\n",
       "      <td>0.100000</td>\n",
       "      <td>0.800000</td>\n",
       "      <td>-0.253333</td>\n",
       "      <td>-0.500000</td>\n",
       "      <td>-0.100000</td>\n",
       "      <td>0.150000</td>\n",
       "      <td>0.000000</td>\n",
       "      <td>0.500000</td>\n",
       "      <td>0.000000</td>\n",
       "      <td>1400.000000</td>\n",
       "    </tr>\n",
       "    <tr>\n",
       "      <th>75%</th>\n",
       "      <td>12.000000</td>\n",
       "      <td>716.000000</td>\n",
       "      <td>0.608696</td>\n",
       "      <td>1.000000</td>\n",
       "      <td>0.754630</td>\n",
       "      <td>14.000000</td>\n",
       "      <td>4.000000</td>\n",
       "      <td>4.000000</td>\n",
       "      <td>1.000000</td>\n",
       "      <td>4.854839</td>\n",
       "      <td>...</td>\n",
       "      <td>0.100000</td>\n",
       "      <td>1.000000</td>\n",
       "      <td>-0.186905</td>\n",
       "      <td>-0.300000</td>\n",
       "      <td>-0.050000</td>\n",
       "      <td>0.500000</td>\n",
       "      <td>0.150000</td>\n",
       "      <td>0.500000</td>\n",
       "      <td>0.250000</td>\n",
       "      <td>2800.000000</td>\n",
       "    </tr>\n",
       "    <tr>\n",
       "      <th>max</th>\n",
       "      <td>23.000000</td>\n",
       "      <td>8474.000000</td>\n",
       "      <td>701.000000</td>\n",
       "      <td>1042.000000</td>\n",
       "      <td>650.000000</td>\n",
       "      <td>304.000000</td>\n",
       "      <td>116.000000</td>\n",
       "      <td>128.000000</td>\n",
       "      <td>91.000000</td>\n",
       "      <td>8.041534</td>\n",
       "      <td>...</td>\n",
       "      <td>1.000000</td>\n",
       "      <td>1.000000</td>\n",
       "      <td>0.000000</td>\n",
       "      <td>0.000000</td>\n",
       "      <td>0.000000</td>\n",
       "      <td>1.000000</td>\n",
       "      <td>1.000000</td>\n",
       "      <td>0.500000</td>\n",
       "      <td>1.000000</td>\n",
       "      <td>843300.000000</td>\n",
       "    </tr>\n",
       "  </tbody>\n",
       "</table>\n",
       "<p>8 rows × 59 columns</p>\n",
       "</div>"
      ],
      "text/plain": [
       "        n_tokens_title   n_tokens_content   n_unique_tokens  \\\n",
       "count     39644.000000       39644.000000      39644.000000   \n",
       "mean         10.398749         546.514731          0.548216   \n",
       "std           2.114037         471.107508          3.520708   \n",
       "min           2.000000           0.000000          0.000000   \n",
       "25%           9.000000         246.000000          0.470870   \n",
       "50%          10.000000         409.000000          0.539226   \n",
       "75%          12.000000         716.000000          0.608696   \n",
       "max          23.000000        8474.000000        701.000000   \n",
       "\n",
       "        n_non_stop_words   n_non_stop_unique_tokens     num_hrefs  \\\n",
       "count       39644.000000               39644.000000  39644.000000   \n",
       "mean            0.996469                   0.689175     10.883690   \n",
       "std             5.231231                   3.264816     11.332017   \n",
       "min             0.000000                   0.000000      0.000000   \n",
       "25%             1.000000                   0.625739      4.000000   \n",
       "50%             1.000000                   0.690476      8.000000   \n",
       "75%             1.000000                   0.754630     14.000000   \n",
       "max          1042.000000                 650.000000    304.000000   \n",
       "\n",
       "        num_self_hrefs      num_imgs    num_videos   average_token_length  \\\n",
       "count     39644.000000  39644.000000  39644.000000           39644.000000   \n",
       "mean          3.293638      4.544143      1.249874               4.548239   \n",
       "std           3.855141      8.309434      4.107855               0.844406   \n",
       "min           0.000000      0.000000      0.000000               0.000000   \n",
       "25%           1.000000      1.000000      0.000000               4.478404   \n",
       "50%           3.000000      1.000000      0.000000               4.664082   \n",
       "75%           4.000000      4.000000      1.000000               4.854839   \n",
       "max         116.000000    128.000000     91.000000               8.041534   \n",
       "\n",
       "       ...   min_positive_polarity   max_positive_polarity  \\\n",
       "count  ...            39644.000000            39644.000000   \n",
       "mean   ...                0.095446                0.756728   \n",
       "std    ...                0.071315                0.247786   \n",
       "min    ...                0.000000                0.000000   \n",
       "25%    ...                0.050000                0.600000   \n",
       "50%    ...                0.100000                0.800000   \n",
       "75%    ...                0.100000                1.000000   \n",
       "max    ...                1.000000                1.000000   \n",
       "\n",
       "        avg_negative_polarity   min_negative_polarity   max_negative_polarity  \\\n",
       "count            39644.000000            39644.000000            39644.000000   \n",
       "mean                -0.259524               -0.521944               -0.107500   \n",
       "std                  0.127726                0.290290                0.095373   \n",
       "min                 -1.000000               -1.000000               -1.000000   \n",
       "25%                 -0.328383               -0.700000               -0.125000   \n",
       "50%                 -0.253333               -0.500000               -0.100000   \n",
       "75%                 -0.186905               -0.300000               -0.050000   \n",
       "max                  0.000000                0.000000                0.000000   \n",
       "\n",
       "        title_subjectivity   title_sentiment_polarity  \\\n",
       "count         39644.000000               39644.000000   \n",
       "mean              0.282353                   0.071425   \n",
       "std               0.324247                   0.265450   \n",
       "min               0.000000                  -1.000000   \n",
       "25%               0.000000                   0.000000   \n",
       "50%               0.150000                   0.000000   \n",
       "75%               0.500000                   0.150000   \n",
       "max               1.000000                   1.000000   \n",
       "\n",
       "        abs_title_subjectivity   abs_title_sentiment_polarity         shares  \n",
       "count             39644.000000                   39644.000000   39644.000000  \n",
       "mean                  0.341843                       0.156064    3395.380184  \n",
       "std                   0.188791                       0.226294   11626.950749  \n",
       "min                   0.000000                       0.000000       1.000000  \n",
       "25%                   0.166667                       0.000000     946.000000  \n",
       "50%                   0.500000                       0.000000    1400.000000  \n",
       "75%                   0.500000                       0.250000    2800.000000  \n",
       "max                   0.500000                       1.000000  843300.000000  \n",
       "\n",
       "[8 rows x 59 columns]"
      ]
     },
     "execution_count": 6,
     "metadata": {},
     "output_type": "execute_result"
    }
   ],
   "source": [
    "#Find the count, mean, standard deviation, minimum, maximum, 25%, 50% and 75% of each variable in the dataset.\n",
    "df.describe()"
   ]
  },
  {
   "cell_type": "code",
   "execution_count": 7,
   "metadata": {},
   "outputs": [
    {
     "data": {
      "text/html": [
       "<div>\n",
       "<style scoped>\n",
       "    .dataframe tbody tr th:only-of-type {\n",
       "        vertical-align: middle;\n",
       "    }\n",
       "\n",
       "    .dataframe tbody tr th {\n",
       "        vertical-align: top;\n",
       "    }\n",
       "\n",
       "    .dataframe thead th {\n",
       "        text-align: right;\n",
       "    }\n",
       "</style>\n",
       "<table border=\"1\" class=\"dataframe\">\n",
       "  <thead>\n",
       "    <tr style=\"text-align: right;\">\n",
       "      <th></th>\n",
       "      <th>n_tokens_title</th>\n",
       "      <th>n_tokens_content</th>\n",
       "      <th>n_unique_tokens</th>\n",
       "      <th>n_non_stop_words</th>\n",
       "      <th>n_non_stop_unique_tokens</th>\n",
       "      <th>num_hrefs</th>\n",
       "      <th>num_self_hrefs</th>\n",
       "      <th>num_imgs</th>\n",
       "      <th>num_videos</th>\n",
       "      <th>average_token_length</th>\n",
       "      <th>...</th>\n",
       "      <th>min_positive_polarity</th>\n",
       "      <th>max_positive_polarity</th>\n",
       "      <th>avg_negative_polarity</th>\n",
       "      <th>min_negative_polarity</th>\n",
       "      <th>max_negative_polarity</th>\n",
       "      <th>title_subjectivity</th>\n",
       "      <th>title_sentiment_polarity</th>\n",
       "      <th>abs_title_subjectivity</th>\n",
       "      <th>abs_title_sentiment_polarity</th>\n",
       "      <th>shares</th>\n",
       "    </tr>\n",
       "  </thead>\n",
       "  <tbody>\n",
       "    <tr>\n",
       "      <th>column type</th>\n",
       "      <td>int64</td>\n",
       "      <td>int64</td>\n",
       "      <td>float64</td>\n",
       "      <td>float64</td>\n",
       "      <td>float64</td>\n",
       "      <td>int64</td>\n",
       "      <td>int64</td>\n",
       "      <td>int64</td>\n",
       "      <td>int64</td>\n",
       "      <td>float64</td>\n",
       "      <td>...</td>\n",
       "      <td>float64</td>\n",
       "      <td>float64</td>\n",
       "      <td>float64</td>\n",
       "      <td>float64</td>\n",
       "      <td>float64</td>\n",
       "      <td>float64</td>\n",
       "      <td>float64</td>\n",
       "      <td>float64</td>\n",
       "      <td>float64</td>\n",
       "      <td>int64</td>\n",
       "    </tr>\n",
       "    <tr>\n",
       "      <th>null values (nb)</th>\n",
       "      <td>0</td>\n",
       "      <td>0</td>\n",
       "      <td>0</td>\n",
       "      <td>0</td>\n",
       "      <td>0</td>\n",
       "      <td>0</td>\n",
       "      <td>0</td>\n",
       "      <td>0</td>\n",
       "      <td>0</td>\n",
       "      <td>0</td>\n",
       "      <td>...</td>\n",
       "      <td>0</td>\n",
       "      <td>0</td>\n",
       "      <td>0</td>\n",
       "      <td>0</td>\n",
       "      <td>0</td>\n",
       "      <td>0</td>\n",
       "      <td>0</td>\n",
       "      <td>0</td>\n",
       "      <td>0</td>\n",
       "      <td>0</td>\n",
       "    </tr>\n",
       "    <tr>\n",
       "      <th>null values (%)</th>\n",
       "      <td>0</td>\n",
       "      <td>0</td>\n",
       "      <td>0</td>\n",
       "      <td>0</td>\n",
       "      <td>0</td>\n",
       "      <td>0</td>\n",
       "      <td>0</td>\n",
       "      <td>0</td>\n",
       "      <td>0</td>\n",
       "      <td>0</td>\n",
       "      <td>...</td>\n",
       "      <td>0</td>\n",
       "      <td>0</td>\n",
       "      <td>0</td>\n",
       "      <td>0</td>\n",
       "      <td>0</td>\n",
       "      <td>0</td>\n",
       "      <td>0</td>\n",
       "      <td>0</td>\n",
       "      <td>0</td>\n",
       "      <td>0</td>\n",
       "    </tr>\n",
       "  </tbody>\n",
       "</table>\n",
       "<p>3 rows × 59 columns</p>\n",
       "</div>"
      ],
      "text/plain": [
       "                  n_tokens_title  n_tokens_content  n_unique_tokens  \\\n",
       "column type                int64             int64          float64   \n",
       "null values (nb)               0                 0                0   \n",
       "null values (%)                0                 0                0   \n",
       "\n",
       "                  n_non_stop_words  n_non_stop_unique_tokens  num_hrefs  \\\n",
       "column type                float64                   float64      int64   \n",
       "null values (nb)                 0                         0          0   \n",
       "null values (%)                  0                         0          0   \n",
       "\n",
       "                  num_self_hrefs  num_imgs  num_videos  average_token_length  \\\n",
       "column type                int64     int64       int64               float64   \n",
       "null values (nb)               0         0           0                     0   \n",
       "null values (%)                0         0           0                     0   \n",
       "\n",
       "                  ...  min_positive_polarity  max_positive_polarity  \\\n",
       "column type       ...                float64                float64   \n",
       "null values (nb)  ...                      0                      0   \n",
       "null values (%)   ...                      0                      0   \n",
       "\n",
       "                  avg_negative_polarity  min_negative_polarity  \\\n",
       "column type                     float64                float64   \n",
       "null values (nb)                      0                      0   \n",
       "null values (%)                       0                      0   \n",
       "\n",
       "                  max_negative_polarity  title_subjectivity  \\\n",
       "column type                     float64             float64   \n",
       "null values (nb)                      0                   0   \n",
       "null values (%)                       0                   0   \n",
       "\n",
       "                  title_sentiment_polarity  abs_title_subjectivity  \\\n",
       "column type                        float64                 float64   \n",
       "null values (nb)                         0                       0   \n",
       "null values (%)                          0                       0   \n",
       "\n",
       "                  abs_title_sentiment_polarity  shares  \n",
       "column type                            float64   int64  \n",
       "null values (nb)                             0       0  \n",
       "null values (%)                              0       0  \n",
       "\n",
       "[3 rows x 59 columns]"
      ]
     },
     "execution_count": 7,
     "metadata": {},
     "output_type": "execute_result"
    }
   ],
   "source": [
    "#Find the columns types and number of null values.\n",
    "#Source: https://www.kaggle.com/karthikcs1/online-news-popularity-lightgbm-gridsearch\n",
    "\n",
    "tab_info=pd.DataFrame(df.dtypes).T.rename(index={0:'column type'})\n",
    "tab_info=tab_info.append(pd.DataFrame(df.isnull().sum()).T.rename(index={0:'null values (nb)'}))\n",
    "tab_info=tab_info.append(pd.DataFrame(df.isnull().sum()/df.shape[0]*100)\n",
    "                         .T.rename(index={0:'null values (%)'}))\n",
    "tab_info"
   ]
  },
  {
   "cell_type": "markdown",
   "metadata": {},
   "source": [
    "There are no null values in the dataset."
   ]
  },
  {
   "cell_type": "code",
   "execution_count": 8,
   "metadata": {},
   "outputs": [
    {
     "data": {
      "text/plain": [
       " n_tokens_title                      20\n",
       " n_tokens_content                  2406\n",
       " n_unique_tokens                  24878\n",
       " n_non_stop_words                    52\n",
       " n_non_stop_unique_tokens         21253\n",
       " num_hrefs                          133\n",
       " num_self_hrefs                      59\n",
       " num_imgs                            91\n",
       " num_videos                          53\n",
       " average_token_length             30136\n",
       " num_keywords                        10\n",
       " data_channel_is_lifestyle            2\n",
       " data_channel_is_entertainment        2\n",
       " data_channel_is_bus                  2\n",
       " data_channel_is_socmed               2\n",
       " data_channel_is_tech                 2\n",
       " data_channel_is_world                2\n",
       " kw_min_min                          26\n",
       " kw_max_min                        1076\n",
       " kw_avg_min                       17003\n",
       " kw_min_max                        1021\n",
       " kw_max_max                          35\n",
       " kw_avg_max                       30834\n",
       " kw_min_avg                       15982\n",
       " kw_max_avg                       19438\n",
       " kw_avg_avg                       39300\n",
       " self_reference_min_shares         1255\n",
       " self_reference_max_shares         1137\n",
       " self_reference_avg_sharess        8626\n",
       " weekday_is_monday                    2\n",
       " weekday_is_tuesday                   2\n",
       " weekday_is_wednesday                 2\n",
       " weekday_is_thursday                  2\n",
       " weekday_is_friday                    2\n",
       " weekday_is_saturday                  2\n",
       " weekday_is_sunday                    2\n",
       " is_weekend                           2\n",
       " LDA_00                           35021\n",
       " LDA_01                           36284\n",
       " LDA_02                           35348\n",
       " LDA_03                           34948\n",
       " LDA_04                           33777\n",
       " global_subjectivity              34501\n",
       " global_sentiment_polarity        34695\n",
       " global_rate_positive_words       13159\n",
       " global_rate_negative_words       10271\n",
       " rate_positive_words               2284\n",
       " rate_negative_words               2284\n",
       " avg_positive_polarity            27301\n",
       " min_positive_polarity               33\n",
       " max_positive_polarity               38\n",
       " avg_negative_polarity            13841\n",
       " min_negative_polarity               54\n",
       " max_negative_polarity               49\n",
       " title_subjectivity                 673\n",
       " title_sentiment_polarity           813\n",
       " abs_title_subjectivity             532\n",
       " abs_title_sentiment_polarity       653\n",
       " shares                            1454\n",
       "dtype: int64"
      ]
     },
     "execution_count": 8,
     "metadata": {},
     "output_type": "execute_result"
    }
   ],
   "source": [
    "#Find the number of unique values for each variable\n",
    "df.nunique(axis=0)"
   ]
  },
  {
   "cell_type": "markdown",
   "metadata": {},
   "source": [
    "We noticed that some variables only have 2 values such as the 6 \"data_channel_is\", the 7 \"weekday_is\", and \"is_weekend.\"  They are categorical.  Let's see how they relate to the number of shares."
   ]
  },
  {
   "cell_type": "code",
   "execution_count": 9,
   "metadata": {},
   "outputs": [],
   "source": [
    "#Create new dataframes for the weekday_is variables.\n",
    "#Take the log of shares so it will be easier to interpret the results.\n",
    "\n",
    "Mon = df[\" weekday_is_monday\"]\n",
    "Tue = df[\" weekday_is_tuesday\"]\n",
    "Wed = df[\" weekday_is_wednesday\"]\n",
    "Thu = df[\" weekday_is_thursday\"]\n",
    "Fri = df[\" weekday_is_friday\"]\n",
    "Sat = df[\" weekday_is_saturday\"]\n",
    "Sun = df[\" weekday_is_sunday\"]\n",
    "shares = np.log(df[' shares'])"
   ]
  },
  {
   "cell_type": "code",
   "execution_count": 10,
   "metadata": {},
   "outputs": [
    {
     "data": {
      "image/png": "[encoded data removed]",
      "text/plain": [
       "<Figure size 432x288 with 7 Axes>"
      ]
     },
     "metadata": {
      "needs_background": "light"
     },
     "output_type": "display_data"
    }
   ],
   "source": [
    "#Plot each day and log of shares to see if there is a difference between days.\n",
    "\n",
    "fig, axes = plt.subplots(1, 7)\n",
    "sns.boxplot(x=Mon, y=shares, orient='v', ax=axes[0])\n",
    "sns.boxplot(x=Tue, y=shares, orient='v', ax=axes[1])\n",
    "sns.boxplot(x=Wed, y=shares, orient='v', ax=axes[2])\n",
    "sns.boxplot(x=Thu, y=shares, orient='v', ax=axes[3])\n",
    "sns.boxplot(x=Fri, y=shares, orient='v', ax=axes[4])\n",
    "sns.boxplot(x=Sat, y=shares, orient='v', ax=axes[5])\n",
    "sns.boxplot(x=Sun, y=shares, orient='v', ax=axes[6])\n",
    "plt.show()"
   ]
  },
  {
   "cell_type": "markdown",
   "metadata": {},
   "source": [
    "The weekdays have about the same number of shares, but the weekends are different.  We will keep the indictor for \"is_weekend\" and remove the other \"weekday_is\" variables."
   ]
  },
  {
   "cell_type": "code",
   "execution_count": 11,
   "metadata": {},
   "outputs": [
    {
     "data": {
      "text/html": [
       "<div>\n",
       "<style scoped>\n",
       "    .dataframe tbody tr th:only-of-type {\n",
       "        vertical-align: middle;\n",
       "    }\n",
       "\n",
       "    .dataframe tbody tr th {\n",
       "        vertical-align: top;\n",
       "    }\n",
       "\n",
       "    .dataframe thead th {\n",
       "        text-align: right;\n",
       "    }\n",
       "</style>\n",
       "<table border=\"1\" class=\"dataframe\">\n",
       "  <thead>\n",
       "    <tr style=\"text-align: right;\">\n",
       "      <th></th>\n",
       "      <th>n_tokens_title</th>\n",
       "      <th>n_tokens_content</th>\n",
       "      <th>n_unique_tokens</th>\n",
       "      <th>n_non_stop_words</th>\n",
       "      <th>n_non_stop_unique_tokens</th>\n",
       "      <th>num_hrefs</th>\n",
       "      <th>num_self_hrefs</th>\n",
       "      <th>num_imgs</th>\n",
       "      <th>num_videos</th>\n",
       "      <th>average_token_length</th>\n",
       "      <th>...</th>\n",
       "      <th>min_positive_polarity</th>\n",
       "      <th>max_positive_polarity</th>\n",
       "      <th>avg_negative_polarity</th>\n",
       "      <th>min_negative_polarity</th>\n",
       "      <th>max_negative_polarity</th>\n",
       "      <th>title_subjectivity</th>\n",
       "      <th>title_sentiment_polarity</th>\n",
       "      <th>abs_title_subjectivity</th>\n",
       "      <th>abs_title_sentiment_polarity</th>\n",
       "      <th>shares</th>\n",
       "    </tr>\n",
       "  </thead>\n",
       "  <tbody>\n",
       "    <tr>\n",
       "      <th>0</th>\n",
       "      <td>12</td>\n",
       "      <td>219</td>\n",
       "      <td>0.663594</td>\n",
       "      <td>1.0</td>\n",
       "      <td>0.815385</td>\n",
       "      <td>4</td>\n",
       "      <td>2</td>\n",
       "      <td>1</td>\n",
       "      <td>0</td>\n",
       "      <td>4.680365</td>\n",
       "      <td>...</td>\n",
       "      <td>0.100000</td>\n",
       "      <td>0.7</td>\n",
       "      <td>-0.350000</td>\n",
       "      <td>-0.600</td>\n",
       "      <td>-0.200000</td>\n",
       "      <td>0.500000</td>\n",
       "      <td>-0.187500</td>\n",
       "      <td>0.000000</td>\n",
       "      <td>0.187500</td>\n",
       "      <td>593</td>\n",
       "    </tr>\n",
       "    <tr>\n",
       "      <th>1</th>\n",
       "      <td>9</td>\n",
       "      <td>255</td>\n",
       "      <td>0.604743</td>\n",
       "      <td>1.0</td>\n",
       "      <td>0.791946</td>\n",
       "      <td>3</td>\n",
       "      <td>1</td>\n",
       "      <td>1</td>\n",
       "      <td>0</td>\n",
       "      <td>4.913725</td>\n",
       "      <td>...</td>\n",
       "      <td>0.033333</td>\n",
       "      <td>0.7</td>\n",
       "      <td>-0.118750</td>\n",
       "      <td>-0.125</td>\n",
       "      <td>-0.100000</td>\n",
       "      <td>0.000000</td>\n",
       "      <td>0.000000</td>\n",
       "      <td>0.500000</td>\n",
       "      <td>0.000000</td>\n",
       "      <td>711</td>\n",
       "    </tr>\n",
       "    <tr>\n",
       "      <th>2</th>\n",
       "      <td>9</td>\n",
       "      <td>211</td>\n",
       "      <td>0.575130</td>\n",
       "      <td>1.0</td>\n",
       "      <td>0.663866</td>\n",
       "      <td>3</td>\n",
       "      <td>1</td>\n",
       "      <td>1</td>\n",
       "      <td>0</td>\n",
       "      <td>4.393365</td>\n",
       "      <td>...</td>\n",
       "      <td>0.100000</td>\n",
       "      <td>1.0</td>\n",
       "      <td>-0.466667</td>\n",
       "      <td>-0.800</td>\n",
       "      <td>-0.133333</td>\n",
       "      <td>0.000000</td>\n",
       "      <td>0.000000</td>\n",
       "      <td>0.500000</td>\n",
       "      <td>0.000000</td>\n",
       "      <td>1500</td>\n",
       "    </tr>\n",
       "    <tr>\n",
       "      <th>3</th>\n",
       "      <td>9</td>\n",
       "      <td>531</td>\n",
       "      <td>0.503788</td>\n",
       "      <td>1.0</td>\n",
       "      <td>0.665635</td>\n",
       "      <td>9</td>\n",
       "      <td>0</td>\n",
       "      <td>1</td>\n",
       "      <td>0</td>\n",
       "      <td>4.404896</td>\n",
       "      <td>...</td>\n",
       "      <td>0.136364</td>\n",
       "      <td>0.8</td>\n",
       "      <td>-0.369697</td>\n",
       "      <td>-0.600</td>\n",
       "      <td>-0.166667</td>\n",
       "      <td>0.000000</td>\n",
       "      <td>0.000000</td>\n",
       "      <td>0.500000</td>\n",
       "      <td>0.000000</td>\n",
       "      <td>1200</td>\n",
       "    </tr>\n",
       "    <tr>\n",
       "      <th>4</th>\n",
       "      <td>13</td>\n",
       "      <td>1072</td>\n",
       "      <td>0.415646</td>\n",
       "      <td>1.0</td>\n",
       "      <td>0.540890</td>\n",
       "      <td>19</td>\n",
       "      <td>19</td>\n",
       "      <td>20</td>\n",
       "      <td>0</td>\n",
       "      <td>4.682836</td>\n",
       "      <td>...</td>\n",
       "      <td>0.033333</td>\n",
       "      <td>1.0</td>\n",
       "      <td>-0.220192</td>\n",
       "      <td>-0.500</td>\n",
       "      <td>-0.050000</td>\n",
       "      <td>0.454545</td>\n",
       "      <td>0.136364</td>\n",
       "      <td>0.045455</td>\n",
       "      <td>0.136364</td>\n",
       "      <td>505</td>\n",
       "    </tr>\n",
       "  </tbody>\n",
       "</table>\n",
       "<p>5 rows × 52 columns</p>\n",
       "</div>"
      ],
      "text/plain": [
       "    n_tokens_title   n_tokens_content   n_unique_tokens   n_non_stop_words  \\\n",
       "0               12                219          0.663594                1.0   \n",
       "1                9                255          0.604743                1.0   \n",
       "2                9                211          0.575130                1.0   \n",
       "3                9                531          0.503788                1.0   \n",
       "4               13               1072          0.415646                1.0   \n",
       "\n",
       "    n_non_stop_unique_tokens   num_hrefs   num_self_hrefs   num_imgs  \\\n",
       "0                   0.815385           4                2          1   \n",
       "1                   0.791946           3                1          1   \n",
       "2                   0.663866           3                1          1   \n",
       "3                   0.665635           9                0          1   \n",
       "4                   0.540890          19               19         20   \n",
       "\n",
       "    num_videos   average_token_length  ...   min_positive_polarity  \\\n",
       "0            0               4.680365  ...                0.100000   \n",
       "1            0               4.913725  ...                0.033333   \n",
       "2            0               4.393365  ...                0.100000   \n",
       "3            0               4.404896  ...                0.136364   \n",
       "4            0               4.682836  ...                0.033333   \n",
       "\n",
       "    max_positive_polarity   avg_negative_polarity   min_negative_polarity  \\\n",
       "0                     0.7               -0.350000                  -0.600   \n",
       "1                     0.7               -0.118750                  -0.125   \n",
       "2                     1.0               -0.466667                  -0.800   \n",
       "3                     0.8               -0.369697                  -0.600   \n",
       "4                     1.0               -0.220192                  -0.500   \n",
       "\n",
       "    max_negative_polarity   title_subjectivity   title_sentiment_polarity  \\\n",
       "0               -0.200000             0.500000                  -0.187500   \n",
       "1               -0.100000             0.000000                   0.000000   \n",
       "2               -0.133333             0.000000                   0.000000   \n",
       "3               -0.166667             0.000000                   0.000000   \n",
       "4               -0.050000             0.454545                   0.136364   \n",
       "\n",
       "    abs_title_subjectivity   abs_title_sentiment_polarity   shares  \n",
       "0                 0.000000                       0.187500      593  \n",
       "1                 0.500000                       0.000000      711  \n",
       "2                 0.500000                       0.000000     1500  \n",
       "3                 0.500000                       0.000000     1200  \n",
       "4                 0.045455                       0.136364      505  \n",
       "\n",
       "[5 rows x 52 columns]"
      ]
     },
     "execution_count": 11,
     "metadata": {},
     "output_type": "execute_result"
    }
   ],
   "source": [
    "#Drop the \"weekday_is...\" columns since we are keeping the \"is_weekend\" column.\n",
    "df = df.drop(df.columns[[29, 30, 31, 32, 33, 34, 35]], axis=1)\n",
    "\n",
    "#View the data frame to ensure that the columns were removed\n",
    "df.head()"
   ]
  },
  {
   "cell_type": "code",
   "execution_count": 12,
   "metadata": {},
   "outputs": [],
   "source": [
    "#Create new dataframes for the data_channel_is variables.\n",
    "\n",
    "Life = df[\" data_channel_is_lifestyle\"]        \n",
    "Ent = df[\" data_channel_is_entertainment\"]        \n",
    "Bus = df[\" data_channel_is_bus\"]                  \n",
    "Soc = df[\" data_channel_is_socmed\"]               \n",
    "Tech = df[\" data_channel_is_tech\"]                 \n",
    "Wor = df[\" data_channel_is_world\"]    "
   ]
  },
  {
   "cell_type": "code",
   "execution_count": 13,
   "metadata": {},
   "outputs": [
    {
     "data": {
      "image/png": "[encoded data removed]",
      "text/plain": [
       "<Figure size 432x288 with 6 Axes>"
      ]
     },
     "metadata": {
      "needs_background": "light"
     },
     "output_type": "display_data"
    }
   ],
   "source": [
    "#Plot each channel and log of shares to see if there is a difference between channels.\n",
    "\n",
    "fig, axes = plt.subplots(1, 6)\n",
    "sns.boxplot(x=Life, y=shares, orient='v', ax=axes[0])\n",
    "sns.boxplot(x=Ent, y=shares, orient='v', ax=axes[1])\n",
    "sns.boxplot(x=Bus, y=shares, orient='v', ax=axes[2])\n",
    "sns.boxplot(x=Soc, y=shares, orient='v', ax=axes[3])\n",
    "sns.boxplot(x=Tech, y=shares, orient='v', ax=axes[4])\n",
    "sns.boxplot(x=Wor, y=shares, orient='v', ax=axes[5])\n",
    "plt.show()"
   ]
  },
  {
   "cell_type": "markdown",
   "metadata": {},
   "source": [
    "Soc has the highest median log shares so we will keep it and drop the rest of the channels from our data set."
   ]
  },
  {
   "cell_type": "code",
   "execution_count": 14,
   "metadata": {},
   "outputs": [
    {
     "data": {
      "text/html": [
       "<div>\n",
       "<style scoped>\n",
       "    .dataframe tbody tr th:only-of-type {\n",
       "        vertical-align: middle;\n",
       "    }\n",
       "\n",
       "    .dataframe tbody tr th {\n",
       "        vertical-align: top;\n",
       "    }\n",
       "\n",
       "    .dataframe thead th {\n",
       "        text-align: right;\n",
       "    }\n",
       "</style>\n",
       "<table border=\"1\" class=\"dataframe\">\n",
       "  <thead>\n",
       "    <tr style=\"text-align: right;\">\n",
       "      <th></th>\n",
       "      <th>n_tokens_title</th>\n",
       "      <th>n_tokens_content</th>\n",
       "      <th>n_unique_tokens</th>\n",
       "      <th>n_non_stop_words</th>\n",
       "      <th>n_non_stop_unique_tokens</th>\n",
       "      <th>num_hrefs</th>\n",
       "      <th>num_self_hrefs</th>\n",
       "      <th>num_imgs</th>\n",
       "      <th>num_videos</th>\n",
       "      <th>average_token_length</th>\n",
       "      <th>...</th>\n",
       "      <th>min_positive_polarity</th>\n",
       "      <th>max_positive_polarity</th>\n",
       "      <th>avg_negative_polarity</th>\n",
       "      <th>min_negative_polarity</th>\n",
       "      <th>max_negative_polarity</th>\n",
       "      <th>title_subjectivity</th>\n",
       "      <th>title_sentiment_polarity</th>\n",
       "      <th>abs_title_subjectivity</th>\n",
       "      <th>abs_title_sentiment_polarity</th>\n",
       "      <th>shares</th>\n",
       "    </tr>\n",
       "  </thead>\n",
       "  <tbody>\n",
       "    <tr>\n",
       "      <th>0</th>\n",
       "      <td>12</td>\n",
       "      <td>219</td>\n",
       "      <td>0.663594</td>\n",
       "      <td>1.0</td>\n",
       "      <td>0.815385</td>\n",
       "      <td>4</td>\n",
       "      <td>2</td>\n",
       "      <td>1</td>\n",
       "      <td>0</td>\n",
       "      <td>4.680365</td>\n",
       "      <td>...</td>\n",
       "      <td>0.100000</td>\n",
       "      <td>0.7</td>\n",
       "      <td>-0.350000</td>\n",
       "      <td>-0.600</td>\n",
       "      <td>-0.200000</td>\n",
       "      <td>0.500000</td>\n",
       "      <td>-0.187500</td>\n",
       "      <td>0.000000</td>\n",
       "      <td>0.187500</td>\n",
       "      <td>593</td>\n",
       "    </tr>\n",
       "    <tr>\n",
       "      <th>1</th>\n",
       "      <td>9</td>\n",
       "      <td>255</td>\n",
       "      <td>0.604743</td>\n",
       "      <td>1.0</td>\n",
       "      <td>0.791946</td>\n",
       "      <td>3</td>\n",
       "      <td>1</td>\n",
       "      <td>1</td>\n",
       "      <td>0</td>\n",
       "      <td>4.913725</td>\n",
       "      <td>...</td>\n",
       "      <td>0.033333</td>\n",
       "      <td>0.7</td>\n",
       "      <td>-0.118750</td>\n",
       "      <td>-0.125</td>\n",
       "      <td>-0.100000</td>\n",
       "      <td>0.000000</td>\n",
       "      <td>0.000000</td>\n",
       "      <td>0.500000</td>\n",
       "      <td>0.000000</td>\n",
       "      <td>711</td>\n",
       "    </tr>\n",
       "    <tr>\n",
       "      <th>2</th>\n",
       "      <td>9</td>\n",
       "      <td>211</td>\n",
       "      <td>0.575130</td>\n",
       "      <td>1.0</td>\n",
       "      <td>0.663866</td>\n",
       "      <td>3</td>\n",
       "      <td>1</td>\n",
       "      <td>1</td>\n",
       "      <td>0</td>\n",
       "      <td>4.393365</td>\n",
       "      <td>...</td>\n",
       "      <td>0.100000</td>\n",
       "      <td>1.0</td>\n",
       "      <td>-0.466667</td>\n",
       "      <td>-0.800</td>\n",
       "      <td>-0.133333</td>\n",
       "      <td>0.000000</td>\n",
       "      <td>0.000000</td>\n",
       "      <td>0.500000</td>\n",
       "      <td>0.000000</td>\n",
       "      <td>1500</td>\n",
       "    </tr>\n",
       "    <tr>\n",
       "      <th>3</th>\n",
       "      <td>9</td>\n",
       "      <td>531</td>\n",
       "      <td>0.503788</td>\n",
       "      <td>1.0</td>\n",
       "      <td>0.665635</td>\n",
       "      <td>9</td>\n",
       "      <td>0</td>\n",
       "      <td>1</td>\n",
       "      <td>0</td>\n",
       "      <td>4.404896</td>\n",
       "      <td>...</td>\n",
       "      <td>0.136364</td>\n",
       "      <td>0.8</td>\n",
       "      <td>-0.369697</td>\n",
       "      <td>-0.600</td>\n",
       "      <td>-0.166667</td>\n",
       "      <td>0.000000</td>\n",
       "      <td>0.000000</td>\n",
       "      <td>0.500000</td>\n",
       "      <td>0.000000</td>\n",
       "      <td>1200</td>\n",
       "    </tr>\n",
       "    <tr>\n",
       "      <th>4</th>\n",
       "      <td>13</td>\n",
       "      <td>1072</td>\n",
       "      <td>0.415646</td>\n",
       "      <td>1.0</td>\n",
       "      <td>0.540890</td>\n",
       "      <td>19</td>\n",
       "      <td>19</td>\n",
       "      <td>20</td>\n",
       "      <td>0</td>\n",
       "      <td>4.682836</td>\n",
       "      <td>...</td>\n",
       "      <td>0.033333</td>\n",
       "      <td>1.0</td>\n",
       "      <td>-0.220192</td>\n",
       "      <td>-0.500</td>\n",
       "      <td>-0.050000</td>\n",
       "      <td>0.454545</td>\n",
       "      <td>0.136364</td>\n",
       "      <td>0.045455</td>\n",
       "      <td>0.136364</td>\n",
       "      <td>505</td>\n",
       "    </tr>\n",
       "  </tbody>\n",
       "</table>\n",
       "<p>5 rows × 47 columns</p>\n",
       "</div>"
      ],
      "text/plain": [
       "    n_tokens_title   n_tokens_content   n_unique_tokens   n_non_stop_words  \\\n",
       "0               12                219          0.663594                1.0   \n",
       "1                9                255          0.604743                1.0   \n",
       "2                9                211          0.575130                1.0   \n",
       "3                9                531          0.503788                1.0   \n",
       "4               13               1072          0.415646                1.0   \n",
       "\n",
       "    n_non_stop_unique_tokens   num_hrefs   num_self_hrefs   num_imgs  \\\n",
       "0                   0.815385           4                2          1   \n",
       "1                   0.791946           3                1          1   \n",
       "2                   0.663866           3                1          1   \n",
       "3                   0.665635           9                0          1   \n",
       "4                   0.540890          19               19         20   \n",
       "\n",
       "    num_videos   average_token_length  ...   min_positive_polarity  \\\n",
       "0            0               4.680365  ...                0.100000   \n",
       "1            0               4.913725  ...                0.033333   \n",
       "2            0               4.393365  ...                0.100000   \n",
       "3            0               4.404896  ...                0.136364   \n",
       "4            0               4.682836  ...                0.033333   \n",
       "\n",
       "    max_positive_polarity   avg_negative_polarity   min_negative_polarity  \\\n",
       "0                     0.7               -0.350000                  -0.600   \n",
       "1                     0.7               -0.118750                  -0.125   \n",
       "2                     1.0               -0.466667                  -0.800   \n",
       "3                     0.8               -0.369697                  -0.600   \n",
       "4                     1.0               -0.220192                  -0.500   \n",
       "\n",
       "    max_negative_polarity   title_subjectivity   title_sentiment_polarity  \\\n",
       "0               -0.200000             0.500000                  -0.187500   \n",
       "1               -0.100000             0.000000                   0.000000   \n",
       "2               -0.133333             0.000000                   0.000000   \n",
       "3               -0.166667             0.000000                   0.000000   \n",
       "4               -0.050000             0.454545                   0.136364   \n",
       "\n",
       "    abs_title_subjectivity   abs_title_sentiment_polarity   shares  \n",
       "0                 0.000000                       0.187500      593  \n",
       "1                 0.500000                       0.000000      711  \n",
       "2                 0.500000                       0.000000     1500  \n",
       "3                 0.500000                       0.000000     1200  \n",
       "4                 0.045455                       0.136364      505  \n",
       "\n",
       "[5 rows x 47 columns]"
      ]
     },
     "execution_count": 14,
     "metadata": {},
     "output_type": "execute_result"
    }
   ],
   "source": [
    "#Drop the \"data_channel_is...\" columns.\n",
    "df = df.drop(df.columns[[11, 12, 13, 15, 16]], axis=1)\n",
    "\n",
    "#View the data frame to ensure that the columns were removed\n",
    "df.head()"
   ]
  },
  {
   "cell_type": "code",
   "execution_count": 15,
   "metadata": {},
   "outputs": [
    {
     "ename": "ModuleNotFoundError",
     "evalue": "No module named 'pandas_profiling'",
     "output_type": "error",
     "traceback": [
      "\u001b[1;31m---------------------------------------------------------------------------\u001b[0m",
      "\u001b[1;31mModuleNotFoundError\u001b[0m                       Traceback (most recent call last)",
      "\u001b[1;32m<ipython-input-15-25964df3fad1>\u001b[0m in \u001b[0;36m<module>\u001b[1;34m\u001b[0m\n\u001b[0;32m      1\u001b[0m \u001b[1;31m#Import pandas_profiling to perform EDA\u001b[0m\u001b[1;33m\u001b[0m\u001b[1;33m\u001b[0m\u001b[1;33m\u001b[0m\u001b[0m\n\u001b[1;32m----> 2\u001b[1;33m \u001b[1;32mimport\u001b[0m \u001b[0mpandas_profiling\u001b[0m\u001b[1;33m\u001b[0m\u001b[1;33m\u001b[0m\u001b[0m\n\u001b[0m\u001b[0;32m      3\u001b[0m \u001b[1;33m\u001b[0m\u001b[0m\n\u001b[0;32m      4\u001b[0m \u001b[1;31m#View the EDA report\u001b[0m\u001b[1;33m\u001b[0m\u001b[1;33m\u001b[0m\u001b[1;33m\u001b[0m\u001b[0m\n\u001b[0;32m      5\u001b[0m \u001b[0mpandas_profiling\u001b[0m\u001b[1;33m.\u001b[0m\u001b[0mProfileReport\u001b[0m\u001b[1;33m(\u001b[0m\u001b[0mdf\u001b[0m\u001b[1;33m)\u001b[0m\u001b[1;33m\u001b[0m\u001b[1;33m\u001b[0m\u001b[0m\n",
      "\u001b[1;31mModuleNotFoundError\u001b[0m: No module named 'pandas_profiling'"
     ]
    }
   ],
   "source": [
    "#Import pandas_profiling to perform EDA\n",
    "import pandas_profiling \n",
    "\n",
    "#View the EDA report\n",
    "pandas_profiling.ProfileReport(df)"
   ]
  },
  {
   "cell_type": "markdown",
   "metadata": {},
   "source": [
    "kw_avg_min is highly correlated with kw_max_min (ρ = 0.94053)<br>\n",
    "n_non_stop_unique_tokens is highly correlated with n_non_stop_words (ρ = 0.99953)<br>\n",
    "n_non_stop_words is highly correlated with n_unique_tokens (ρ = 0.99957).<br>  \n",
    "\n",
    "We will drop kw_avg_min from the data set and keep kw_max_min.<br>\n",
    "We will drop n_non_stop_unique_tokens and n_non_stop_words from the data set and keep n_unique_tokens."
   ]
  },
  {
   "cell_type": "code",
   "execution_count": 16,
   "metadata": {},
   "outputs": [
    {
     "data": {
      "text/html": [
       "<div>\n",
       "<style scoped>\n",
       "    .dataframe tbody tr th:only-of-type {\n",
       "        vertical-align: middle;\n",
       "    }\n",
       "\n",
       "    .dataframe tbody tr th {\n",
       "        vertical-align: top;\n",
       "    }\n",
       "\n",
       "    .dataframe thead th {\n",
       "        text-align: right;\n",
       "    }\n",
       "</style>\n",
       "<table border=\"1\" class=\"dataframe\">\n",
       "  <thead>\n",
       "    <tr style=\"text-align: right;\">\n",
       "      <th></th>\n",
       "      <th>n_tokens_title</th>\n",
       "      <th>n_tokens_content</th>\n",
       "      <th>n_unique_tokens</th>\n",
       "      <th>num_hrefs</th>\n",
       "      <th>num_self_hrefs</th>\n",
       "      <th>num_imgs</th>\n",
       "      <th>num_videos</th>\n",
       "      <th>average_token_length</th>\n",
       "      <th>num_keywords</th>\n",
       "      <th>data_channel_is_socmed</th>\n",
       "      <th>...</th>\n",
       "      <th>min_positive_polarity</th>\n",
       "      <th>max_positive_polarity</th>\n",
       "      <th>avg_negative_polarity</th>\n",
       "      <th>min_negative_polarity</th>\n",
       "      <th>max_negative_polarity</th>\n",
       "      <th>title_subjectivity</th>\n",
       "      <th>title_sentiment_polarity</th>\n",
       "      <th>abs_title_subjectivity</th>\n",
       "      <th>abs_title_sentiment_polarity</th>\n",
       "      <th>shares</th>\n",
       "    </tr>\n",
       "  </thead>\n",
       "  <tbody>\n",
       "    <tr>\n",
       "      <th>0</th>\n",
       "      <td>12</td>\n",
       "      <td>219</td>\n",
       "      <td>0.663594</td>\n",
       "      <td>4</td>\n",
       "      <td>2</td>\n",
       "      <td>1</td>\n",
       "      <td>0</td>\n",
       "      <td>4.680365</td>\n",
       "      <td>5</td>\n",
       "      <td>0</td>\n",
       "      <td>...</td>\n",
       "      <td>0.100000</td>\n",
       "      <td>0.7</td>\n",
       "      <td>-0.350000</td>\n",
       "      <td>-0.600</td>\n",
       "      <td>-0.200000</td>\n",
       "      <td>0.500000</td>\n",
       "      <td>-0.187500</td>\n",
       "      <td>0.000000</td>\n",
       "      <td>0.187500</td>\n",
       "      <td>593</td>\n",
       "    </tr>\n",
       "    <tr>\n",
       "      <th>1</th>\n",
       "      <td>9</td>\n",
       "      <td>255</td>\n",
       "      <td>0.604743</td>\n",
       "      <td>3</td>\n",
       "      <td>1</td>\n",
       "      <td>1</td>\n",
       "      <td>0</td>\n",
       "      <td>4.913725</td>\n",
       "      <td>4</td>\n",
       "      <td>0</td>\n",
       "      <td>...</td>\n",
       "      <td>0.033333</td>\n",
       "      <td>0.7</td>\n",
       "      <td>-0.118750</td>\n",
       "      <td>-0.125</td>\n",
       "      <td>-0.100000</td>\n",
       "      <td>0.000000</td>\n",
       "      <td>0.000000</td>\n",
       "      <td>0.500000</td>\n",
       "      <td>0.000000</td>\n",
       "      <td>711</td>\n",
       "    </tr>\n",
       "    <tr>\n",
       "      <th>2</th>\n",
       "      <td>9</td>\n",
       "      <td>211</td>\n",
       "      <td>0.575130</td>\n",
       "      <td>3</td>\n",
       "      <td>1</td>\n",
       "      <td>1</td>\n",
       "      <td>0</td>\n",
       "      <td>4.393365</td>\n",
       "      <td>6</td>\n",
       "      <td>0</td>\n",
       "      <td>...</td>\n",
       "      <td>0.100000</td>\n",
       "      <td>1.0</td>\n",
       "      <td>-0.466667</td>\n",
       "      <td>-0.800</td>\n",
       "      <td>-0.133333</td>\n",
       "      <td>0.000000</td>\n",
       "      <td>0.000000</td>\n",
       "      <td>0.500000</td>\n",
       "      <td>0.000000</td>\n",
       "      <td>1500</td>\n",
       "    </tr>\n",
       "    <tr>\n",
       "      <th>3</th>\n",
       "      <td>9</td>\n",
       "      <td>531</td>\n",
       "      <td>0.503788</td>\n",
       "      <td>9</td>\n",
       "      <td>0</td>\n",
       "      <td>1</td>\n",
       "      <td>0</td>\n",
       "      <td>4.404896</td>\n",
       "      <td>7</td>\n",
       "      <td>0</td>\n",
       "      <td>...</td>\n",
       "      <td>0.136364</td>\n",
       "      <td>0.8</td>\n",
       "      <td>-0.369697</td>\n",
       "      <td>-0.600</td>\n",
       "      <td>-0.166667</td>\n",
       "      <td>0.000000</td>\n",
       "      <td>0.000000</td>\n",
       "      <td>0.500000</td>\n",
       "      <td>0.000000</td>\n",
       "      <td>1200</td>\n",
       "    </tr>\n",
       "    <tr>\n",
       "      <th>4</th>\n",
       "      <td>13</td>\n",
       "      <td>1072</td>\n",
       "      <td>0.415646</td>\n",
       "      <td>19</td>\n",
       "      <td>19</td>\n",
       "      <td>20</td>\n",
       "      <td>0</td>\n",
       "      <td>4.682836</td>\n",
       "      <td>7</td>\n",
       "      <td>0</td>\n",
       "      <td>...</td>\n",
       "      <td>0.033333</td>\n",
       "      <td>1.0</td>\n",
       "      <td>-0.220192</td>\n",
       "      <td>-0.500</td>\n",
       "      <td>-0.050000</td>\n",
       "      <td>0.454545</td>\n",
       "      <td>0.136364</td>\n",
       "      <td>0.045455</td>\n",
       "      <td>0.136364</td>\n",
       "      <td>505</td>\n",
       "    </tr>\n",
       "  </tbody>\n",
       "</table>\n",
       "<p>5 rows × 44 columns</p>\n",
       "</div>"
      ],
      "text/plain": [
       "    n_tokens_title   n_tokens_content   n_unique_tokens   num_hrefs  \\\n",
       "0               12                219          0.663594           4   \n",
       "1                9                255          0.604743           3   \n",
       "2                9                211          0.575130           3   \n",
       "3                9                531          0.503788           9   \n",
       "4               13               1072          0.415646          19   \n",
       "\n",
       "    num_self_hrefs   num_imgs   num_videos   average_token_length  \\\n",
       "0                2          1            0               4.680365   \n",
       "1                1          1            0               4.913725   \n",
       "2                1          1            0               4.393365   \n",
       "3                0          1            0               4.404896   \n",
       "4               19         20            0               4.682836   \n",
       "\n",
       "    num_keywords   data_channel_is_socmed  ...   min_positive_polarity  \\\n",
       "0              5                        0  ...                0.100000   \n",
       "1              4                        0  ...                0.033333   \n",
       "2              6                        0  ...                0.100000   \n",
       "3              7                        0  ...                0.136364   \n",
       "4              7                        0  ...                0.033333   \n",
       "\n",
       "    max_positive_polarity   avg_negative_polarity   min_negative_polarity  \\\n",
       "0                     0.7               -0.350000                  -0.600   \n",
       "1                     0.7               -0.118750                  -0.125   \n",
       "2                     1.0               -0.466667                  -0.800   \n",
       "3                     0.8               -0.369697                  -0.600   \n",
       "4                     1.0               -0.220192                  -0.500   \n",
       "\n",
       "    max_negative_polarity   title_subjectivity   title_sentiment_polarity  \\\n",
       "0               -0.200000             0.500000                  -0.187500   \n",
       "1               -0.100000             0.000000                   0.000000   \n",
       "2               -0.133333             0.000000                   0.000000   \n",
       "3               -0.166667             0.000000                   0.000000   \n",
       "4               -0.050000             0.454545                   0.136364   \n",
       "\n",
       "    abs_title_subjectivity   abs_title_sentiment_polarity   shares  \n",
       "0                 0.000000                       0.187500      593  \n",
       "1                 0.500000                       0.000000      711  \n",
       "2                 0.500000                       0.000000     1500  \n",
       "3                 0.500000                       0.000000     1200  \n",
       "4                 0.045455                       0.136364      505  \n",
       "\n",
       "[5 rows x 44 columns]"
      ]
     },
     "execution_count": 16,
     "metadata": {},
     "output_type": "execute_result"
    }
   ],
   "source": [
    "#Drop the n_non_stop_words, n_non_stop_unique_tokens, and kw_avg_min columns since they are highly correlated to other \n",
    "#variables.\n",
    "df = df.drop(df.columns[[3, 4, 14]], axis=1)\n",
    "\n",
    "#View the data frame to ensure that the columns were removed\n",
    "df.head()"
   ]
  },
  {
   "cell_type": "markdown",
   "metadata": {},
   "source": [
    "We now have 44 variables (including the response variable) in our data set."
   ]
  },
  {
   "cell_type": "markdown",
   "metadata": {},
   "source": [
    "<h4><b>Histograms and Boxplots</b></h4>"
   ]
  },
  {
   "cell_type": "code",
   "execution_count": 17,
   "metadata": {},
   "outputs": [
    {
     "data": {
      "image/png": "[encoded data removed]",
      "text/plain": [
       "<Figure size 432x288 with 2 Axes>"
      ]
     },
     "metadata": {},
     "output_type": "display_data"
    }
   ],
   "source": [
    "#To get the boxplot and histogram to print side by side, I used the site below for the code. \n",
    "#https://www.python-graph-gallery.com/24-histogram-with-a-boxplot-on-top-seaborn\n",
    "\n",
    "#Set a grey background\n",
    "sns.set(style=\"darkgrid\")\n",
    " \n",
    "#Create a figure composed of two matplotlib.Axes objects (ax_box and ax_hist)\n",
    "f, (ax_box, ax_hist) = plt.subplots(2, sharex=True, gridspec_kw={\"height_ratios\": (.15, .85)})\n",
    " \n",
    "#Assigning a graph to each ax\n",
    "sns.boxplot(df[\" n_tokens_title\"], ax=ax_box)\n",
    "sns.histplot(data=df, x=' n_tokens_title', ax=ax_hist)\n",
    " \n",
    "#Remove x axis name for the boxplot\n",
    "ax_box.set(xlabel='')\n",
    "plt.show()"
   ]
  },
  {
   "cell_type": "markdown",
   "metadata": {},
   "source": [
    "n_tokens_title is the number of words in the title which is discrete numeric data.  The boxplot shows the median value is 10.  Q1 to Q3 is 9-12 with outliers as low as 2 and as high as 23.  The histogram has large peaks at 9, 10, 11 and 12 with 10 being the mode. "
   ]
  },
  {
   "cell_type": "code",
   "execution_count": 18,
   "metadata": {},
   "outputs": [
    {
     "data": {
      "image/png": "[encoded data removed]",
      "text/plain": [
       "<Figure size 432x288 with 2 Axes>"
      ]
     },
     "metadata": {},
     "output_type": "display_data"
    }
   ],
   "source": [
    "sns.set(style=\"darkgrid\")\n",
    "f, (ax_box, ax_hist) = plt.subplots(2, sharex=True, gridspec_kw={\"height_ratios\": (.15, .85)})\n",
    "sns.boxplot(df[\" n_tokens_content\"], ax=ax_box)\n",
    "sns.histplot(data=df, x=' n_tokens_content', ax=ax_hist)\n",
    "ax_box.set(xlabel='')\n",
    "plt.show()"
   ]
  },
  {
   "cell_type": "markdown",
   "metadata": {},
   "source": [
    "n_tokens_content is the number of words in the content which is discrete numeric data.  The boxplot shows the median value is 409.  Q1 to Q3 is 246-716 with outliers as low as 0 and as high as 8,474.  The histogram is right skewed with a mode of 0. "
   ]
  },
  {
   "cell_type": "code",
   "execution_count": null,
   "metadata": {},
   "outputs": [],
   "source": [
    "sns.set(style=\"darkgrid\") \n",
    "f, (ax_box, ax_hist) = plt.subplots(2, sharex=True, gridspec_kw={\"height_ratios\": (.15, .85)}) \n",
    "sns.boxplot(df[\" n_unique_tokens\"], ax=ax_box)\n",
    "sns.histplot(data=df, x=' n_unique_tokens', ax=ax_hist)\n",
    "ax_box.set(xlabel='')\n",
    "plt.show()"
   ]
  },
  {
   "cell_type": "markdown",
   "metadata": {},
   "source": [
    "n_unique_tokens is the rate of unique words in the content which is continuous numeric data.  The boxplot shows the median value is 0.54.  Q1 to Q3 is 0.47 - 0.61 with outliers as low as 0 and as high as 701.  The histogram is right skewed with a mode of 0.  Since this is a rate, all values should be between 0 and 1.  We will drop the row with 701.  "
   ]
  },
  {
   "cell_type": "code",
   "execution_count": null,
   "metadata": {},
   "outputs": [],
   "source": [
    "#Drop outlier with 701 as the n_unique_tokens\n",
    "df = df[df[' n_unique_tokens'] != 701]\n",
    "\n",
    "#Rerun the histogram and boxplot.\n",
    "sns.set(style=\"darkgrid\") \n",
    "f, (ax_box, ax_hist) = plt.subplots(2, sharex=True, gridspec_kw={\"height_ratios\": (.15, .85)}) \n",
    "sns.boxplot(df[\" n_unique_tokens\"], ax=ax_box)\n",
    "sns.histplot(data=df, x=' n_unique_tokens', ax=ax_hist)\n",
    "ax_box.set(xlabel='')\n",
    "plt.show()"
   ]
  },
  {
   "cell_type": "markdown",
   "metadata": {},
   "source": [
    "Now that the outlier is removed, the boxplot shows the median value is 0.54.  Q1 to Q3 is 0.47 - 0.61 with outliers as low as 0 and as high as 1.  The histogram is bell-shaped with the peak around 0.55.  There is a large peak outside of the curve at 0 which is also the mode."
   ]
  },
  {
   "cell_type": "code",
   "execution_count": null,
   "metadata": {},
   "outputs": [],
   "source": [
    "sns.set(style=\"darkgrid\")\n",
    "f, (ax_box, ax_hist) = plt.subplots(2, sharex=True, gridspec_kw={\"height_ratios\": (.15, .85)})\n",
    "sns.boxplot(df[\" num_hrefs\"], ax=ax_box)\n",
    "sns.histplot(data=df, x=' num_hrefs', ax=ax_hist)\n",
    "ax_box.set(xlabel='')\n",
    "plt.show()"
   ]
  },
  {
   "cell_type": "markdown",
   "metadata": {},
   "source": [
    "num_hrefs is the number of links which is discrete numeric data.  The boxplot shows the median value is 8.  Q1 to Q3 is 4-14 with outliers as low as 0 and as high as 304.  The histogram is right skewed with a mode of 4. "
   ]
  },
  {
   "cell_type": "code",
   "execution_count": null,
   "metadata": {},
   "outputs": [],
   "source": [
    "sns.set(style=\"darkgrid\")\n",
    "f, (ax_box, ax_hist) = plt.subplots(2, sharex=True, gridspec_kw={\"height_ratios\": (.15, .85)})\n",
    "sns.boxplot(df[\" num_self_hrefs\"], ax=ax_box)\n",
    "sns.histplot(data=df, x=' num_self_hrefs', ax=ax_hist)\n",
    "ax_box.set(xlabel='')\n",
    "plt.show()"
   ]
  },
  {
   "cell_type": "markdown",
   "metadata": {},
   "source": [
    "num_self_hrefs is the number of links to other articles published by Mashable which is discrete numeric data. The boxplot shows the median value is 3.  Q1 to Q3 is 1-4 with outliers as low as 0 and as high as 116.  The histogram is right skewed with a mode of 2. "
   ]
  },
  {
   "cell_type": "code",
   "execution_count": null,
   "metadata": {},
   "outputs": [],
   "source": [
    "sns.set(style=\"darkgrid\")\n",
    "f, (ax_box, ax_hist) = plt.subplots(2, sharex=True, gridspec_kw={\"height_ratios\": (.15, .85)})\n",
    "sns.boxplot(df[\" num_imgs\"], ax=ax_box)\n",
    "sns.histplot(data=df, x=' num_imgs', ax=ax_hist)\n",
    "ax_box.set(xlabel='')\n",
    "plt.show()"
   ]
  },
  {
   "cell_type": "markdown",
   "metadata": {},
   "source": [
    "num_imgs is the number of images which is discrete numeric data. The boxplot shows the median value is 1.  Q1 to Q3 is 1-4 with outliers as low as 0 and as high as 128.  The histogram is right skewed with a mode of 1. "
   ]
  },
  {
   "cell_type": "code",
   "execution_count": null,
   "metadata": {},
   "outputs": [],
   "source": [
    "sns.set(style=\"darkgrid\")\n",
    "f, (ax_box, ax_hist) = plt.subplots(2, sharex=True, gridspec_kw={\"height_ratios\": (.15, .85)})\n",
    "sns.boxplot(df[\" num_videos\"], ax=ax_box)\n",
    "sns.histplot(data=df, x=' num_videos', ax=ax_hist)\n",
    "ax_box.set(xlabel='')\n",
    "plt.show()"
   ]
  },
  {
   "cell_type": "markdown",
   "metadata": {},
   "source": [
    "num_videos is the number of videos which is discrete numeric data. The boxplot shows the median value is 0.  Q1 to Q3 is 0-1 with outliers as high as 91.  The histogram is right skewed with a mode of 0. "
   ]
  },
  {
   "cell_type": "code",
   "execution_count": null,
   "metadata": {},
   "outputs": [],
   "source": [
    "sns.set(style=\"darkgrid\") \n",
    "f, (ax_box, ax_hist) = plt.subplots(2, sharex=True, gridspec_kw={\"height_ratios\": (.15, .85)}) \n",
    "sns.boxplot(df[\" average_token_length\"], ax=ax_box)\n",
    "sns.histplot(data=df, x=' average_token_length', ax=ax_hist)\n",
    "ax_box.set(xlabel='')\n",
    "plt.show()"
   ]
  },
  {
   "cell_type": "markdown",
   "metadata": {},
   "source": [
    "average_token_length is the average length of the words in the content which is continuous numeric data. The boxplot shows the median value is 4.66.  Q1 to Q3 is 4.48-4.85 with outliers as low as 0 and as high as 8.04.  The histogram is bell-shaped with a peak round 4.75.  The mode is 0. "
   ]
  },
  {
   "cell_type": "code",
   "execution_count": null,
   "metadata": {},
   "outputs": [],
   "source": [
    "sns.set(style=\"darkgrid\") \n",
    "f, (ax_box, ax_hist) = plt.subplots(2, sharex=True, gridspec_kw={\"height_ratios\": (.15, .85)}) \n",
    "sns.boxplot(df[\" num_keywords\"], ax=ax_box)\n",
    "sns.histplot(data=df, x=' num_keywords', ax=ax_hist)\n",
    "ax_box.set(xlabel='')\n",
    "plt.show()"
   ]
  },
  {
   "cell_type": "markdown",
   "metadata": {},
   "source": [
    "num_keywords is the number of keywords in the metadata which is discrete numeric data. The boxplot shows the median value is 7.  Q1 to Q3 is 6-9 with outliers as low as 1 and as high as 10.  The histogram is left skewed with a mode of 7 and high peaks at 6 and 10. "
   ]
  },
  {
   "cell_type": "code",
   "execution_count": null,
   "metadata": {},
   "outputs": [],
   "source": [
    "sns.set(style=\"darkgrid\") \n",
    "f, (ax_box, ax_hist) = plt.subplots(2, sharex=True, gridspec_kw={\"height_ratios\": (.15, .85)}) \n",
    "sns.boxplot(df[\" kw_min_min\"], ax=ax_box)\n",
    "sns.histplot(data=df, x=' kw_min_min', ax=ax_hist)\n",
    "ax_box.set(xlabel='')\n",
    "plt.show()"
   ]
  },
  {
   "cell_type": "markdown",
   "metadata": {},
   "source": [
    "kw_min_min is the worst keyword (min. shares) which is discrete numeric data. The boxplot shows the median value is -1. Q1 to Q3 is -1 to 4 with outliers as high as 217. The histogram only shows two peaks at -1 and 217.  The mode is -1. "
   ]
  },
  {
   "cell_type": "code",
   "execution_count": null,
   "metadata": {},
   "outputs": [],
   "source": [
    "sns.set(style=\"darkgrid\") \n",
    "f, (ax_box, ax_hist) = plt.subplots(2, sharex=True, gridspec_kw={\"height_ratios\": (.15, .85)}) \n",
    "sns.boxplot(df[\" kw_max_min\"], ax=ax_box)\n",
    "sns.histplot(data=df, x=' kw_max_min', ax=ax_hist)\n",
    "ax_box.set(xlabel='')\n",
    "plt.show()"
   ]
  },
  {
   "cell_type": "markdown",
   "metadata": {},
   "source": [
    "kw_max_min is the worst keyword (max. shares) which is discrete numeric data. The boxplot shows the median value is 660. Q1 to Q3 is 445 - 1,000 with outliers as low as 0 and as high as 298,400. The histogram is right skewed with a mode of 1,100."
   ]
  },
  {
   "cell_type": "code",
   "execution_count": null,
   "metadata": {},
   "outputs": [],
   "source": [
    "sns.set(style=\"darkgrid\") \n",
    "f, (ax_box, ax_hist) = plt.subplots(2, sharex=True, gridspec_kw={\"height_ratios\": (.15, .85)}) \n",
    "sns.boxplot(df[\" kw_min_max\"], ax=ax_box)\n",
    "sns.histplot(data=df, x=' kw_min_max', ax=ax_hist)\n",
    "ax_box.set(xlabel='')\n",
    "plt.show()"
   ]
  },
  {
   "cell_type": "markdown",
   "metadata": {},
   "source": [
    "kw_max_min is the best keyword (min. shares) which is discrete numeric data. The boxplot shows the median value is 1,400. Q1 to Q3 is 0-7,900 with outliers as high as 843,300. The histogram is right skewed with a mode of 0."
   ]
  },
  {
   "cell_type": "code",
   "execution_count": null,
   "metadata": {},
   "outputs": [],
   "source": [
    "sns.set(style=\"darkgrid\") \n",
    "f, (ax_box, ax_hist) = plt.subplots(2, sharex=True, gridspec_kw={\"height_ratios\": (.15, .85)}) \n",
    "sns.boxplot(df[\" kw_max_max\"], ax=ax_box)\n",
    "sns.histplot(data=df, x=' kw_max_max', ax=ax_hist)\n",
    "ax_box.set(xlabel='')\n",
    "plt.show()"
   ]
  },
  {
   "cell_type": "markdown",
   "metadata": {},
   "source": [
    "kw_max_max is the best keyword (max. shares)  which is discrete numeric data. The boxplot shows the median value is 843,300. Q1 to Q3 is 843,300 - 843,300 with outliers as low as 0. The histogram is left skewed with a mode of 843,300."
   ]
  },
  {
   "cell_type": "code",
   "execution_count": null,
   "metadata": {},
   "outputs": [],
   "source": [
    "sns.set(style=\"darkgrid\") \n",
    "f, (ax_box, ax_hist) = plt.subplots(2, sharex=True, gridspec_kw={\"height_ratios\": (.15, .85)}) \n",
    "sns.boxplot(df[\" kw_avg_max\"], ax=ax_box)\n",
    "sns.histplot(data=df, x=' kw_avg_max', ax=ax_hist)\n",
    "ax_box.set(xlabel='')\n",
    "plt.show()"
   ]
  },
  {
   "cell_type": "markdown",
   "metadata": {},
   "source": [
    "kw_avg_max is the best keyword (average shares) which is numeric data. The boxplot shows the median value is 244,570. Q1 to Q3 is 172,850 - 330,980 with outliers as low as 0 and as high as 843,300. The histogram is right skewed with a mode of 0."
   ]
  },
  {
   "cell_type": "code",
   "execution_count": null,
   "metadata": {},
   "outputs": [],
   "source": [
    "sns.set(style=\"darkgrid\") \n",
    "f, (ax_box, ax_hist) = plt.subplots(2, sharex=True, gridspec_kw={\"height_ratios\": (.15, .85)}) \n",
    "sns.boxplot(df[\" kw_min_avg\"], ax=ax_box)\n",
    "sns.histplot(data=df, x=' kw_min_avg', ax=ax_hist)\n",
    "ax_box.set(xlabel='')\n",
    "plt.show()"
   ]
  },
  {
   "cell_type": "markdown",
   "metadata": {},
   "source": [
    "kw_min_avg is the avg. keyword (min. shares) which is continuous numeric data. The boxplot shows the median value is 1,023.6. Q1 to Q3 is 0 - 2,056.8 with outliers as low as -1 and as high as 3,613. The histogram is right skewed with a mode of 0."
   ]
  },
  {
   "cell_type": "code",
   "execution_count": null,
   "metadata": {},
   "outputs": [],
   "source": [
    "sns.set(style=\"darkgrid\") \n",
    "f, (ax_box, ax_hist) = plt.subplots(2, sharex=True, gridspec_kw={\"height_ratios\": (.15, .85)}) \n",
    "sns.boxplot(df[\" kw_max_avg\"], ax=ax_box)\n",
    "sns.histplot(data=df, x=' kw_max_avg', ax=ax_hist)\n",
    "ax_box.set(xlabel='')\n",
    "plt.show()"
   ]
  },
  {
   "cell_type": "markdown",
   "metadata": {},
   "source": [
    "kw_max_avg is the average keyword (maximum shares) which is continuous numeric data. The boxplot shows the median value is 4,355.7. Q1 to Q3 is 3,562.1 - 6020 with outliers as low as 0 and as high as 298,400. The histogram is right skewed with a mode of 0."
   ]
  },
  {
   "cell_type": "code",
   "execution_count": null,
   "metadata": {},
   "outputs": [],
   "source": [
    "sns.set(style=\"darkgrid\") \n",
    "f, (ax_box, ax_hist) = plt.subplots(2, sharex=True, gridspec_kw={\"height_ratios\": (.15, .85)}) \n",
    "sns.boxplot(df[\" kw_avg_avg\"], ax=ax_box)\n",
    "sns.histplot(data=df, x=' kw_avg_avg', ax=ax_hist)\n",
    "ax_box.set(xlabel='')\n",
    "plt.show()"
   ]
  },
  {
   "cell_type": "markdown",
   "metadata": {},
   "source": [
    "kw_avg_avg is the avg. keyword (avg. shares) which is continuous numeric data. The boxplot shows the median value is 2,870.1. Q1 to Q3 is 2,382.4 - 3,600.2 with outliers as low as 0 and as high as 435,568. The histogram is right skewed with a mode of 0."
   ]
  },
  {
   "cell_type": "code",
   "execution_count": null,
   "metadata": {},
   "outputs": [],
   "source": [
    "sns.set(style=\"darkgrid\") \n",
    "f, (ax_box, ax_hist) = plt.subplots(2, sharex=True, gridspec_kw={\"height_ratios\": (.15, .85)}) \n",
    "sns.boxplot(df[\" self_reference_min_shares\"], ax=ax_box)\n",
    "sns.histplot(data=df, x=' self_reference_min_shares', ax=ax_hist)\n",
    "ax_box.set(xlabel='')\n",
    "plt.show()"
   ]
  },
  {
   "cell_type": "markdown",
   "metadata": {},
   "source": [
    "self_reference_min_shares is the Min. shares of referenced articles in Mashable which is discrete numeric data. The boxplot shows the median value is 1,200. Q1 to Q3 is 639 - 2,600 with outliers as low as 0 and as high as 843,330. The histogram is right skewed with a mode of 0."
   ]
  },
  {
   "cell_type": "code",
   "execution_count": null,
   "metadata": {},
   "outputs": [],
   "source": [
    "sns.set(style=\"darkgrid\") \n",
    "f, (ax_box, ax_hist) = plt.subplots(2, sharex=True, gridspec_kw={\"height_ratios\": (.15, .85)}) \n",
    "sns.boxplot(df[\" self_reference_max_shares\"], ax=ax_box)\n",
    "sns.histplot(data=df, x=' self_reference_max_shares', ax=ax_hist)\n",
    "ax_box.set(xlabel='')\n",
    "plt.show()"
   ]
  },
  {
   "cell_type": "markdown",
   "metadata": {},
   "source": [
    "self_reference_max_shares is the max. shares of referenced articles in Mashable which is discrete numeric data. The boxplot shows the median value is 2,800. Q1 to Q3 is 1,100 - 8,000 with outliers as low as 0 and as high as 843,330. The histogram is right skewed with a mode of 0."
   ]
  },
  {
   "cell_type": "code",
   "execution_count": null,
   "metadata": {},
   "outputs": [],
   "source": [
    "sns.set(style=\"darkgrid\") \n",
    "f, (ax_box, ax_hist) = plt.subplots(2, sharex=True, gridspec_kw={\"height_ratios\": (.15, .85)}) \n",
    "sns.boxplot(df[\" self_reference_avg_sharess\"], ax=ax_box)\n",
    "sns.histplot(data=df, x=' self_reference_avg_sharess', ax=ax_hist)\n",
    "ax_box.set(xlabel='')\n",
    "plt.show()"
   ]
  },
  {
   "cell_type": "markdown",
   "metadata": {},
   "source": [
    "self_reference_avg_sharess is the average shares of referenced articles in Mashable which is numeric data. The boxplot shows the median value is 2,200. Q1 to Q3 is 981.2 - 5,200 with outliers as low as 0 and as high as 843,330. The histogram is right skewed with a mode of 0."
   ]
  },
  {
   "cell_type": "code",
   "execution_count": null,
   "metadata": {},
   "outputs": [],
   "source": [
    "sns.set(style=\"darkgrid\") \n",
    "f, (ax_box, ax_hist) = plt.subplots(2, sharex=True, gridspec_kw={\"height_ratios\": (.15, .85)}) \n",
    "sns.boxplot(df[\" LDA_00\"], ax=ax_box)\n",
    "sns.histplot(data=df, x=' LDA_00', ax=ax_hist)\n",
    "ax_box.set(xlabel='')\n",
    "plt.show()"
   ]
  },
  {
   "cell_type": "markdown",
   "metadata": {},
   "source": [
    "LDA_00 is the closeness to LDA topic 0 which is numeric data. The boxplot shows the median value is 0.033. Q1 to Q3 is 0.025 - 0.24 with outliers as low as 0 and as high as 0.93. The histogram is right skewed with a mode of 0.067."
   ]
  },
  {
   "cell_type": "code",
   "execution_count": null,
   "metadata": {},
   "outputs": [],
   "source": [
    "sns.set(style=\"darkgrid\") \n",
    "f, (ax_box, ax_hist) = plt.subplots(2, sharex=True, gridspec_kw={\"height_ratios\": (.15, .85)}) \n",
    "sns.boxplot(df[\" LDA_01\"], ax=ax_box)\n",
    "sns.histplot(data=df, x=' LDA_01', ax=ax_hist)\n",
    "ax_box.set(xlabel='')\n",
    "plt.show()"
   ]
  },
  {
   "cell_type": "markdown",
   "metadata": {},
   "source": [
    "LDA_01 is the closeness to LDA topic 1 which is numeric data. The boxplot shows the median value is 0.033. Q1 to Q3 is 0.025 - 0.15 with outliers as low as 0 and as high as 0.93. The histogram is right skewed with a mode of 0.067."
   ]
  },
  {
   "cell_type": "code",
   "execution_count": null,
   "metadata": {},
   "outputs": [],
   "source": [
    "sns.set(style=\"darkgrid\") \n",
    "f, (ax_box, ax_hist) = plt.subplots(2, sharex=True, gridspec_kw={\"height_ratios\": (.15, .85)}) \n",
    "sns.boxplot(df[\" LDA_02\"], ax=ax_box)\n",
    "sns.histplot(data=df, x=' LDA_02', ax=ax_hist)\n",
    "ax_box.set(xlabel='')\n",
    "plt.show()"
   ]
  },
  {
   "cell_type": "markdown",
   "metadata": {},
   "source": [
    "LDA_02 is the closeness to LDA topic 2 which is numeric data. The boxplot shows the median value is 0.04. Q1 to Q3 is 0.029 - 0.33 with outliers as low as 0 and as high as 0.92. The histogram is right skewed with a mode of 0.733."
   ]
  },
  {
   "cell_type": "code",
   "execution_count": null,
   "metadata": {},
   "outputs": [],
   "source": [
    "sns.set(style=\"darkgrid\") \n",
    "f, (ax_box, ax_hist) = plt.subplots(2, sharex=True, gridspec_kw={\"height_ratios\": (.15, .85)}) \n",
    "sns.boxplot(df[\" LDA_03\"], ax=ax_box)\n",
    "sns.histplot(data=df, x=' LDA_03', ax=ax_hist)\n",
    "ax_box.set(xlabel='')\n",
    "plt.show()"
   ]
  },
  {
   "cell_type": "markdown",
   "metadata": {},
   "source": [
    "LDA_03 is the closeness to LDA topic 3 which is numeric data. The boxplot shows the median value is 0.04. Q1 to Q3 is 0.029 - 0.38 with outliers as low as 0 and as high as 0.92. The histogram is right skewed with a mode of 0.067."
   ]
  },
  {
   "cell_type": "code",
   "execution_count": null,
   "metadata": {},
   "outputs": [],
   "source": [
    "sns.set(style=\"darkgrid\") \n",
    "f, (ax_box, ax_hist) = plt.subplots(2, sharex=True, gridspec_kw={\"height_ratios\": (.15, .85)}) \n",
    "sns.boxplot(df[\" LDA_04\"], ax=ax_box)\n",
    "sns.histplot(data=df, x=' LDA_04', ax=ax_hist)\n",
    "ax_box.set(xlabel='')\n",
    "plt.show()"
   ]
  },
  {
   "cell_type": "markdown",
   "metadata": {},
   "source": [
    "LDA_04 is the closeness to LDA topic 4 which is numeric data. The boxplot shows the median value is 0.04. Q1 to Q3 is 0.029 - 0.4 with outliers as low as 0 and as high as 0.93. The histogram is right skewed with a mode of 0.05."
   ]
  },
  {
   "cell_type": "code",
   "execution_count": null,
   "metadata": {},
   "outputs": [],
   "source": [
    "sns.set(style=\"darkgrid\") \n",
    "f, (ax_box, ax_hist) = plt.subplots(2, sharex=True, gridspec_kw={\"height_ratios\": (.15, .85)}) \n",
    "sns.boxplot(df[\" global_subjectivity\"], ax=ax_box)\n",
    "sns.histplot(data=df, x=' global_subjectivity', ax=ax_hist)\n",
    "ax_box.set(xlabel='')\n",
    "plt.show()"
   ]
  },
  {
   "cell_type": "markdown",
   "metadata": {},
   "source": [
    "global_subjectivity is the text subjectivity which is continuous numeric data. The boxplot shows the median value is 0.04. Q1 to Q3 is 0.029 - 0.4 with outliers as low as 0 and as high as 0.93. The histogram is right skewed with a mode of 0.05."
   ]
  },
  {
   "cell_type": "code",
   "execution_count": null,
   "metadata": {},
   "outputs": [],
   "source": [
    "sns.set(style=\"darkgrid\") \n",
    "f, (ax_box, ax_hist) = plt.subplots(2, sharex=True, gridspec_kw={\"height_ratios\": (.15, .85)}) \n",
    "sns.boxplot(df[\" global_sentiment_polarity\"], ax=ax_box)\n",
    "sns.histplot(data=df, x=' global_sentiment_polarity', ax=ax_hist)\n",
    "ax_box.set(xlabel='')\n",
    "plt.show()"
   ]
  },
  {
   "cell_type": "markdown",
   "metadata": {},
   "source": [
    "global_sentiment_polarity is the text sentiment polarity which is continuous numeric data. The boxplot shows the median value is 0.12. Q1 to Q3 is 0.06 - 0.18 with outliers as low as -0.39 and as high as 0.73. The histogram is bell-shaped, peaking at 0.15, but with an even higher peak at 0 which is also the mode."
   ]
  },
  {
   "cell_type": "code",
   "execution_count": null,
   "metadata": {},
   "outputs": [],
   "source": [
    "sns.set(style=\"darkgrid\") \n",
    "f, (ax_box, ax_hist) = plt.subplots(2, sharex=True, gridspec_kw={\"height_ratios\": (.15, .85)}) \n",
    "sns.boxplot(df[\" global_rate_positive_words\"], ax=ax_box)\n",
    "sns.histplot(data=df, x=' global_rate_positive_words', ax=ax_hist)\n",
    "ax_box.set(xlabel='')\n",
    "plt.show()"
   ]
  },
  {
   "cell_type": "markdown",
   "metadata": {},
   "source": [
    "global_rate_positive_words is the rate of positive words in the content which is continuous numeric data. The boxplot shows the median value is 0.04. Q1 to Q3 is 0.03 - 0.05 with outliers as low as 0 and as high as 0.16. The histogram is bell-shaped with a mode of 0.042 but also had a high peak at 0 which is outside the bell curve."
   ]
  },
  {
   "cell_type": "code",
   "execution_count": null,
   "metadata": {},
   "outputs": [],
   "source": [
    "sns.set(style=\"darkgrid\") \n",
    "f, (ax_box, ax_hist) = plt.subplots(2, sharex=True, gridspec_kw={\"height_ratios\": (.15, .85)}) \n",
    "sns.boxplot(df[\" global_rate_negative_words\"], ax=ax_box)\n",
    "sns.histplot(data=df, x=' global_rate_negative_words', ax=ax_hist)\n",
    "ax_box.set(xlabel='')\n",
    "plt.show()"
   ]
  },
  {
   "cell_type": "markdown",
   "metadata": {},
   "source": [
    "global_rate_negative_words is the rate of negative words in the content which is continuous numeric data. The boxplot shows the median value is 0.02. Q1 to Q3 is 0.01 - 0.02 with outliers as low as 0 and as high as 0.18. The histogram is bell-shaped but right skewed.  The mode is 0 which is a large peak outside of the bell curve."
   ]
  },
  {
   "cell_type": "code",
   "execution_count": null,
   "metadata": {},
   "outputs": [],
   "source": [
    "sns.set(style=\"darkgrid\") \n",
    "f, (ax_box, ax_hist) = plt.subplots(2, sharex=True, gridspec_kw={\"height_ratios\": (.15, .85)}) \n",
    "sns.boxplot(df[\" rate_positive_words\"], ax=ax_box)\n",
    "sns.histplot(data=df, x=' rate_positive_words', ax=ax_hist)\n",
    "ax_box.set(xlabel='')\n",
    "plt.show()"
   ]
  },
  {
   "cell_type": "markdown",
   "metadata": {},
   "source": [
    "rate_positive_words is the rate of positive words among non-neutral tokens which is continuous numeric data. The boxplot shows the median value is 0.71. Q1 to Q3 is 0.6 - 0.8 with outliers as low as 0 and as high as 1. The histogram is mostly bell-shaped but left skewed with several large peaks.  The mode is 0.67 with the next highest peak at 1."
   ]
  },
  {
   "cell_type": "code",
   "execution_count": null,
   "metadata": {},
   "outputs": [],
   "source": [
    "sns.set(style=\"darkgrid\") \n",
    "f, (ax_box, ax_hist) = plt.subplots(2, sharex=True, gridspec_kw={\"height_ratios\": (.15, .85)}) \n",
    "sns.boxplot(df[\" rate_negative_words\"], ax=ax_box)\n",
    "sns.histplot(data=df, x=' rate_negative_words', ax=ax_hist)\n",
    "ax_box.set(xlabel='')\n",
    "plt.show()"
   ]
  },
  {
   "cell_type": "markdown",
   "metadata": {},
   "source": [
    "rate_negative_words is the rate of negative words among non-neutral tokens which is continuous numeric data. The boxplot shows the median value is 0.28. Q1 to Q3 is 0.19 - 0.38 with outliers as low as 0 and as high as 1. The histogram is mostly bell-shaped but right skewed with several large peaks.  The mode is 0, which is outside the bell-shaped curve, with the next highest peak at 0.33."
   ]
  },
  {
   "cell_type": "code",
   "execution_count": null,
   "metadata": {},
   "outputs": [],
   "source": [
    "sns.set(style=\"darkgrid\") \n",
    "f, (ax_box, ax_hist) = plt.subplots(2, sharex=True, gridspec_kw={\"height_ratios\": (.15, .85)}) \n",
    "sns.boxplot(df[\" avg_positive_polarity\"], ax=ax_box)\n",
    "sns.histplot(data=df, x=' avg_positive_polarity', ax=ax_hist)\n",
    "ax_box.set(xlabel='')\n",
    "plt.show()"
   ]
  },
  {
   "cell_type": "markdown",
   "metadata": {},
   "source": [
    "avg_positive_polarity is the average polarity of positive words. The boxplot shows the median value is 0.36. Q1 to Q3 is 0.31 - 0.41 with outliers as low as 0 and as high as 1. The histogram is bell-shaped but with a mode of 0 which is outside the bell curve."
   ]
  },
  {
   "cell_type": "code",
   "execution_count": null,
   "metadata": {},
   "outputs": [],
   "source": [
    "sns.set(style=\"darkgrid\") \n",
    "f, (ax_box, ax_hist) = plt.subplots(2, sharex=True, gridspec_kw={\"height_ratios\": (.15, .85)}) \n",
    "sns.boxplot(df[\" min_positive_polarity\"], ax=ax_box)\n",
    "sns.histplot(data=df, x=' min_positive_polarity', ax=ax_hist)\n",
    "ax_box.set(xlabel='')\n",
    "plt.show()"
   ]
  },
  {
   "cell_type": "markdown",
   "metadata": {},
   "source": [
    "min_positive_polarity is the minimum polarity of positive words. The boxplot shows the median value is 0.1. Q1 to Q3 is 0.05 - 0.01 with outliers as low as 0 and as high as 1. The histogram has the highest peak at 0.1 and the next highest peak at 0.03."
   ]
  },
  {
   "cell_type": "code",
   "execution_count": null,
   "metadata": {},
   "outputs": [],
   "source": [
    "sns.set(style=\"darkgrid\") \n",
    "f, (ax_box, ax_hist) = plt.subplots(2, sharex=True, gridspec_kw={\"height_ratios\": (.15, .85)}) \n",
    "sns.boxplot(df[\" max_positive_polarity\"], ax=ax_box)\n",
    "sns.histplot(data=df, x=' max_positive_polarity', ax=ax_hist)\n",
    "ax_box.set(xlabel='')\n",
    "plt.show()"
   ]
  },
  {
   "cell_type": "markdown",
   "metadata": {},
   "source": [
    "max_positive_polarity is the maximum polarity of positive words. The boxplot shows the median value is 0.8. Q1 to Q3 is 0.6 - 1 with outliers as low as 0. The histogram shows a mode of 1 and the next highest peak at 0.5."
   ]
  },
  {
   "cell_type": "code",
   "execution_count": null,
   "metadata": {},
   "outputs": [],
   "source": [
    "sns.set(style=\"darkgrid\") \n",
    "f, (ax_box, ax_hist) = plt.subplots(2, sharex=True, gridspec_kw={\"height_ratios\": (.15, .85)}) \n",
    "sns.boxplot(df[\" avg_negative_polarity\"], ax=ax_box)\n",
    "sns.histplot(data=df, x=' avg_negative_polarity', ax=ax_hist)\n",
    "ax_box.set(xlabel='')\n",
    "plt.show()"
   ]
  },
  {
   "cell_type": "markdown",
   "metadata": {},
   "source": [
    "avg_negative_polarity is the average polarity of negative words. The boxplot shows the median value is -0.25. Q1 to Q3 is -0.33 to -0.19 with outliers as low as -1 and as high as 0. The histogram is bell-shaped with a left skew.  The mode is 0 which is outside the bell-shaped curve."
   ]
  },
  {
   "cell_type": "code",
   "execution_count": null,
   "metadata": {},
   "outputs": [],
   "source": [
    "sns.set(style=\"darkgrid\") \n",
    "f, (ax_box, ax_hist) = plt.subplots(2, sharex=True, gridspec_kw={\"height_ratios\": (.15, .85)}) \n",
    "sns.boxplot(df[\" min_negative_polarity\"], ax=ax_box)\n",
    "sns.histplot(data=df, x=' min_negative_polarity', ax=ax_hist)\n",
    "ax_box.set(xlabel='')\n",
    "plt.show()"
   ]
  },
  {
   "cell_type": "markdown",
   "metadata": {},
   "source": [
    "min_negative_polarity is the minimum polarity of negative words. The boxplot shows the median value is -0.5. Q1 to Q3 is -0.7 to -0.3 with outliers as low as -1 and as high as 0. The histogram shows a mode of -0.5 with the next highest peak at -1. "
   ]
  },
  {
   "cell_type": "code",
   "execution_count": null,
   "metadata": {},
   "outputs": [],
   "source": [
    "sns.set(style=\"darkgrid\") \n",
    "f, (ax_box, ax_hist) = plt.subplots(2, sharex=True, gridspec_kw={\"height_ratios\": (.15, .85)}) \n",
    "sns.boxplot(df[\" max_negative_polarity\"], ax=ax_box)\n",
    "sns.histplot(data=df, x=' max_negative_polarity', ax=ax_hist)\n",
    "ax_box.set(xlabel='')\n",
    "plt.show()"
   ]
  },
  {
   "cell_type": "markdown",
   "metadata": {},
   "source": [
    "max_negative_polarity is the maximum polarity of negative words . The boxplot shows the median value is -0.1. Q1 to Q3 is -0.125 to -0.05 with outliers as low as -1 and as high as 0. The histogram shows a mode of -0.05 with the next highest peak at -0.1. "
   ]
  },
  {
   "cell_type": "code",
   "execution_count": null,
   "metadata": {},
   "outputs": [],
   "source": [
    "sns.set(style=\"darkgrid\") \n",
    "f, (ax_box, ax_hist) = plt.subplots(2, sharex=True, gridspec_kw={\"height_ratios\": (.15, .85)}) \n",
    "sns.boxplot(df[\" title_subjectivity\"], ax=ax_box)\n",
    "sns.histplot(data=df, x=' title_subjectivity', ax=ax_hist)\n",
    "ax_box.set(xlabel='')\n",
    "plt.show()"
   ]
  },
  {
   "cell_type": "markdown",
   "metadata": {},
   "source": [
    "The title_subjectivity boxplot shows the median value is 0.15. Q1 to Q3 is 0 to 0.5 with outliers as high as 1. The histogram shows a mode of 0 with the next highest peak at 0.5. "
   ]
  },
  {
   "cell_type": "code",
   "execution_count": null,
   "metadata": {},
   "outputs": [],
   "source": [
    "sns.set(style=\"darkgrid\") \n",
    "f, (ax_box, ax_hist) = plt.subplots(2, sharex=True, gridspec_kw={\"height_ratios\": (.15, .85)}) \n",
    "sns.boxplot(df[\" title_sentiment_polarity\"], ax=ax_box)\n",
    "sns.histplot(data=df, x=' title_sentiment_polarity', ax=ax_hist)\n",
    "ax_box.set(xlabel='')\n",
    "plt.show()"
   ]
  },
  {
   "cell_type": "markdown",
   "metadata": {},
   "source": [
    "The title_sentiment_polarity boxplot shows the median value is 0. Q1 to Q3 is 0 to 0.15 with outliers as low as -1 and as high as 1. The histogram shows a mode of 0 with the next highest peak at 0.5. "
   ]
  },
  {
   "cell_type": "code",
   "execution_count": null,
   "metadata": {},
   "outputs": [],
   "source": [
    "sns.set(style=\"darkgrid\") \n",
    "f, (ax_box, ax_hist) = plt.subplots(2, sharex=True, gridspec_kw={\"height_ratios\": (.15, .85)}) \n",
    "sns.boxplot(df[\" abs_title_subjectivity\"], ax=ax_box)\n",
    "sns.histplot(data=df, x=' abs_title_subjectivity', ax=ax_hist)\n",
    "ax_box.set(xlabel='')\n",
    "plt.show()"
   ]
  },
  {
   "cell_type": "markdown",
   "metadata": {},
   "source": [
    "The abs_title_subjectivity is the absolute subjectivity level.  The boxplot shows the median value is 0.5. Q1 to Q3 is 0.17 to 0.5 with outliers as low as 0 and as high as 0.5. The histogram shows a mode of 0.5 with the next highest peak at 0. "
   ]
  },
  {
   "cell_type": "code",
   "execution_count": null,
   "metadata": {},
   "outputs": [],
   "source": [
    "sns.set(style=\"darkgrid\") \n",
    "f, (ax_box, ax_hist) = plt.subplots(2, sharex=True, gridspec_kw={\"height_ratios\": (.15, .85)}) \n",
    "sns.boxplot(df[\" abs_title_sentiment_polarity\"], ax=ax_box)\n",
    "sns.histplot(data=df, x=' abs_title_sentiment_polarity', ax=ax_hist)\n",
    "ax_box.set(xlabel='')\n",
    "plt.show()"
   ]
  },
  {
   "cell_type": "markdown",
   "metadata": {},
   "source": [
    "The abs_title_sentiment_polarity is the absolute polarity level.  The boxplot shows the median value is 0. Q1 to Q3 is 0 to 0.25 with outliers as high as 1. The histogram shows a mode of 0 with the next highest peak at 0.5. "
   ]
  },
  {
   "cell_type": "code",
   "execution_count": null,
   "metadata": {},
   "outputs": [],
   "source": [
    "sns.set(style=\"darkgrid\") \n",
    "f, (ax_box, ax_hist) = plt.subplots(2, sharex=True, gridspec_kw={\"height_ratios\": (.15, .85)}) \n",
    "sns.boxplot(df[\" shares\"], ax=ax_box)\n",
    "sns.histplot(data=df, x=' shares', ax=ax_hist)\n",
    "ax_box.set(xlabel='')\n",
    "plt.show()"
   ]
  },
  {
   "cell_type": "markdown",
   "metadata": {},
   "source": [
    "The number of shares boxplot shows the median value is 1,400. Q1 to Q3 is 946 to 2,800 with outliers as low as 1 and as high as 843,300. The histogram is right skewed and shows a mode of 1,100 with the next highest peak at 1,200. "
   ]
  },
  {
   "cell_type": "markdown",
   "metadata": {},
   "source": [
    "<h4><b>Outliers and Normalization</b></h4></b></h4>"
   ]
  },
  {
   "cell_type": "code",
   "execution_count": null,
   "metadata": {},
   "outputs": [],
   "source": [
    "#We saw a lot of outliers in many of the variables. Remove outliers based on the response variable, shares.\n",
    "\n",
    "Q1 = df[' shares'].quantile(0.25)\n",
    "Q3 = df[' shares'].quantile(0.75)\n",
    "IQR = Q3 - Q1\n",
    "LTV= Q1 - (1.5 * IQR)\n",
    "UTV= Q3 + (1.5 * IQR)\n",
    "df = df.drop(df[df[' shares'] > UTV].index)\n",
    "df.shape"
   ]
  },
  {
   "cell_type": "markdown",
   "metadata": {},
   "source": [
    "We reduced our data set from 39,644 observations to 35,103 observations.  This is an 11.5% decrease."
   ]
  },
  {
   "cell_type": "code",
   "execution_count": null,
   "metadata": {
    "scrolled": true
   },
   "outputs": [],
   "source": [
    "sns.set(style=\"darkgrid\") \n",
    "f, (ax_box, ax_hist) = plt.subplots(2, sharex=True, gridspec_kw={\"height_ratios\": (.15, .85)}) \n",
    "sns.boxplot(df[\" shares\"], ax=ax_box)\n",
    "sns.histplot(data=df, x=' shares', ax=ax_hist)\n",
    "ax_box.set(xlabel='')\n",
    "plt.show()"
   ]
  },
  {
   "cell_type": "markdown",
   "metadata": {},
   "source": [
    "Shares looks more bell-shaped now but it is still right skewed."
   ]
  },
  {
   "cell_type": "code",
   "execution_count": null,
   "metadata": {},
   "outputs": [],
   "source": [
    "#Remove catagorical variables before normalizing the data.\n",
    "df2 = df.drop(df.columns[[9, 21]], axis=1)\n",
    "\n",
    "#View the data frame to ensure that the columns were removed\n",
    "df2.head()"
   ]
  },
  {
   "cell_type": "code",
   "execution_count": null,
   "metadata": {},
   "outputs": [],
   "source": [
    "#Normalize the data\n",
    "\n",
    "from sklearn.preprocessing import MinMaxScaler\n",
    "scaler = MinMaxScaler() \n",
    "data_scaled = scaler.fit_transform(df2)"
   ]
  },
  {
   "cell_type": "code",
   "execution_count": null,
   "metadata": {},
   "outputs": [],
   "source": [
    "#Convert normalized data to a new dataframe\n",
    "\n",
    "df3 = pd.DataFrame(data_scaled, columns = ['n_tokens_title', 'n_tokens_content', 'n_unique_tokens', 'num_hrefs', \n",
    "                                           'num_self_hrefs', 'num_imgs', 'num_videos', 'average_token_length', 'num_keywords',\n",
    "                                           'kw_min_min', 'kw_max_min', 'kw_min_max', 'kw_max_max', 'kw_avg_max',\n",
    "                                           'kw_min_avg', 'kw_max_avg', 'kw_avg_avg', 'self_reference_min_shares', \n",
    "                                           'self_reference_max_shares', 'self_reference_avg_sharess', 'LDA_00',\n",
    "                                           'LDA_01', 'LDA_02',  'LDA_03', 'LDA_04', 'global_subjectivity', \n",
    "                                           'global_sentiment_polarity', 'global_rate_positive_words', \n",
    "                                           'global_rate_negative_words', 'rate_positive_words', 'rate_negative_words',\n",
    "                                           'avg_positive_polarity', 'min_positive_polarity', 'max_positive_polarity',\n",
    "                                           'avg_negative_polarity', 'min_negative_polarity', 'max_negative_polarity', \n",
    "                                           'title_subjectivity', 'title_sentiment_polarity', 'abs_title_subjectivity', \n",
    "                                           'abs_title_sentiment_polarity', 'shares'])\n",
    "df3.head()"
   ]
  },
  {
   "cell_type": "code",
   "execution_count": null,
   "metadata": {},
   "outputs": [],
   "source": [
    "#Show the correlation matrix\n",
    "corr = df3.corr()\n",
    "plt.figure(figsize=(25,25))\n",
    "sns.set(font_scale=1.4)\n",
    "sns.heatmap(df3.corr(), linewidths=.5)"
   ]
  },
  {
   "cell_type": "markdown",
   "metadata": {},
   "source": [
    "<h4><b> Exploratory Data Analysis Discussion</b></h4>"
   ]
  },
  {
   "cell_type": "markdown",
   "metadata": {},
   "source": [
    "According to our correlation matrix, none of the explanatory variables are standing out as being very predictive of the response variable.  We were able to drop three variables that were highly correlated with each other with a ρ-value of 0.94 or greater.  We dropped all but two of the categorical variables since the dropped values produced about the same about of log shares.  We were able to drop some outlier values based on shares which helped the distribution to be more bell-shaped and not so skewed.   "
   ]
  },
  {
   "cell_type": "markdown",
   "metadata": {},
   "source": [
    "<h3><b> Feature Selection & Dimensionality Reduction</b></h3>"
   ]
  },
  {
   "cell_type": "code",
   "execution_count": null,
   "metadata": {},
   "outputs": [],
   "source": [
    "#Remove kw worst, kw best, self_reference min and max shares, min and max positive polarity, and min and max negative \n",
    "#polarity.  We are only using the average for each of these features because it seemed redundant to use min, max, and \n",
    "#average about the same feature.\n",
    "df4 = df3.drop(df3.columns[[9, 10, 11, 12, 13, 17, 18, 32, 33, 35, 36]], axis=1)\n",
    "\n",
    "#View the data frame to ensure that the columns were removed\n",
    "df4.head()"
   ]
  },
  {
   "cell_type": "code",
   "execution_count": null,
   "metadata": {},
   "outputs": [],
   "source": [
    "# Create correlation matrix\n",
    "corr_matrix = df3.corr().abs()\n",
    "\n",
    "# Select upper triangle of correlation matrix\n",
    "upper = corr_matrix.where(np.triu(np.ones(corr_matrix.shape), k=1).astype(np.bool))\n",
    "\n",
    "print(upper)"
   ]
  },
  {
   "cell_type": "code",
   "execution_count": null,
   "metadata": {},
   "outputs": [],
   "source": [
    "# Find features with correlation greater than 0.7\n",
    "to_drop = [column for column in upper.columns if any(upper[column] > 0.7)]\n",
    "print(); print(to_drop)"
   ]
  },
  {
   "cell_type": "code",
   "execution_count": null,
   "metadata": {},
   "outputs": [],
   "source": [
    "# Drop features \n",
    "df3.drop(to_drop, axis=1, inplace=True)"
   ]
  },
  {
   "cell_type": "markdown",
   "metadata": {},
   "source": [
    "<h3>Backwards Stepwise</h3>"
   ]
  },
  {
   "cell_type": "code",
   "execution_count": null,
   "metadata": {},
   "outputs": [],
   "source": [
    "x_columns = [\"n_tokens_content\",\n",
    "         \"n_unique_tokens\",\n",
    "         \"num_hrefs\",\n",
    "         \"num_videos\",      \n",
    "         \"num_keywords\",\n",
    "         \"kw_min_avg\",\n",
    "         \"kw_max_avg\",\n",
    "         \"self_reference_avg_sharess\",\n",
    "         \"global_subjectivity\",\n",
    "         \"global_sentiment_polarity\",\n",
    "         \"global_rate_positive_words\",\n",
    "         \"global_rate_negative_words\",\n",
    "         \"avg_positive_polarity\",\n",
    "         \"avg_negative_polarity\",\n",
    "         \"title_subjectivity\",\n",
    "         \"title_sentiment_polarity\",\n",
    "         \"abs_title_subjectivity\"]\n",
    "y = df4[\"shares\"]"
   ]
  },
  {
   "cell_type": "code",
   "execution_count": null,
   "metadata": {},
   "outputs": [],
   "source": [
    "x=df4[x_columns]"
   ]
  },
  {
   "cell_type": "code",
   "execution_count": null,
   "metadata": {},
   "outputs": [],
   "source": [
    "df4.head()"
   ]
  },
  {
   "cell_type": "code",
   "execution_count": null,
   "metadata": {},
   "outputs": [],
   "source": [
    "# creating function to get model statistics\n",
    " \n",
    "import statsmodels.api as sm\n",
    "def get_stats():\n",
    "    X = df4[x_columns]\n",
    "    results = sm.OLS(y, X).fit()\n",
    "    print(results.summary())\n",
    " \n",
    "get_stats()"
   ]
  },
  {
   "cell_type": "markdown",
   "metadata": {},
   "source": [
    "All variables with a p-value higher than 0.05 were eliminated until the variables above remained."
   ]
  },
  {
   "cell_type": "markdown",
   "metadata": {},
   "source": [
    "<h4>Principal Components Analysis (PCA)</h4>"
   ]
  },
  {
   "cell_type": "code",
   "execution_count": null,
   "metadata": {},
   "outputs": [],
   "source": [
    "# load PCA + SVM classifier (\"SVC\") + cross validation functions\n",
    "from sklearn.decomposition import PCA\n",
    "from sklearn.svm import SVC\n",
    "from sklearn import model_selection\n",
    "from sklearn.model_selection import train_test_split"
   ]
  },
  {
   "cell_type": "code",
   "execution_count": null,
   "metadata": {},
   "outputs": [],
   "source": [
    "#Assign the response variable to a Python object\n",
    "y = df[\" shares\"]\n",
    "\n",
    "# split the data into training + testing subsets\n",
    "x_train, x_test, y_train, y_test = model_selection.train_test_split(x, y, test_size=0.4, random_state=0)\n",
    "\n",
    "# create an instance of a PCA model +\n",
    "# set the number of components you want to retain\n",
    "pca = PCA(n_components=2)\n",
    "\n",
    "# apply the PCA function to the training data\n",
    "pca.fit(x_train)\n",
    "\n",
    "# display the explained variance ratio for the principal components we've derived from the data\n",
    "print(pca.explained_variance_ratio_)"
   ]
  },
  {
   "cell_type": "markdown",
   "metadata": {},
   "source": [
    "The application of PCA to the data set has yielded two principal components, the first of which explains 38.33% of the variance in the Online News Popularity Data Set. The second principal component explains an additional 20.36% of the variance in the data. Therefore, the two principal components explain a total of 58% of the variance in the data set."
   ]
  },
  {
   "cell_type": "code",
   "execution_count": null,
   "metadata": {},
   "outputs": [],
   "source": [
    "# display the singular values associated with the 2 principal components\n",
    "print(pca.singular_values_)"
   ]
  },
  {
   "cell_type": "code",
   "execution_count": null,
   "metadata": {},
   "outputs": [],
   "source": [
    "# now apply the results of the PCA to the training data to transform it into 2 principal components per observation\n",
    "X_t_train = pca.transform(x_train)\n",
    "\n",
    "# apply the results of the PCA to the testing data to transform it into 2 principal components per observation\n",
    "X_t_test = pca.transform(x_test)\n",
    "\n",
    "# create an instance of an SVM classifier\n",
    "clf = SVC()\n",
    "\n",
    "# fit the SVM classifier to the transformed training data + the response data\n",
    "clf.fit(X_t_train, y_train)\n",
    "\n",
    "# check the accuracy of the SVM classifier using the transformed explanatory variables + the response variable\n",
    "print ('score', clf.score(X_t_test, y_test) )"
   ]
  },
  {
   "cell_type": "markdown",
   "metadata": {},
   "source": [
    "Our SVM classifier has achieved an accuracy score of 6% when applied to the two principal components we derived from the Online News Popularity Data Set data. "
   ]
  },
  {
   "cell_type": "markdown",
   "metadata": {},
   "source": [
    "<h3>Regression Model Evaluation</h3>"
   ]
  },
  {
   "cell_type": "code",
   "execution_count": null,
   "metadata": {},
   "outputs": [],
   "source": [
    "#loading linear regression f(x) from sklearn 'linear model' sub-library\n",
    "from sklearn.linear_model import LinearRegression\n",
    " \n",
    "#loading the cross_val_score f(x) from the sklearn.model_selection module\n",
    "from sklearn.model_selection import cross_val_score\n",
    " \n",
    "#loading the train_test_split f(x)\n",
    "from sklearn.model_selection import train_test_split"
   ]
  },
  {
   "cell_type": "code",
   "execution_count": null,
   "metadata": {},
   "outputs": [],
   "source": [
    "#now to split our first sets of data into training and testing subsets\n",
    "#we will set aside only 20% of our data for testing purposes\n",
    " \n",
    "x_train, x_test, y_train, y_test = train_test_split(x, y, test_size=0.2, random_state=2)\n",
    " \n",
    "#checking results\n",
    "print(len(x_train))\n",
    "\n",
    "print(len(x_test))\n",
    " \n",
    "#We will be using 10-fold cross validation since our data set is rather large (approx 36,000 rows)."
   ]
  },
  {
   "cell_type": "code",
   "execution_count": null,
   "metadata": {},
   "outputs": [],
   "source": [
    "# Assigning the model function you want to use to a variable\n",
    "LRmodel = LinearRegression()\n",
    " \n",
    "# fit the model using 10-fold cross validation\n",
    "scores = cross_val_score(LRmodel, x_train, y_train, cv=10)"
   ]
  },
  {
   "cell_type": "code",
   "execution_count": null,
   "metadata": {},
   "outputs": [],
   "source": [
    "# print out the R^2 metrics derived from the K-fold cross validation of our linear regression model\n",
    "print(scores)\n",
    " \n",
    "np.mean(scores)"
   ]
  },
  {
   "cell_type": "markdown",
   "metadata": {},
   "source": [
    "<h3>Conclusion</h3>"
   ]
  },
  {
   "cell_type": "markdown",
   "metadata": {},
   "source": [
    "Upon looking at the data set, we deemed particular attributes redundant. Weekday binary encoders were reduced down to “is weekend”, as our box plots in our EDA had shown only a significant difference was seen whether a Mashable article was posted on the weekend (Saturday and Sunday) or not.\n",
    " \n",
    "In addition, seeing attributes such as “worst”, “best” and “average” keyword attributes led us to only keep average measures. This was also our case for “self-reference” and “polarity”.\n",
    " \n",
    "After utilizing backwards stepwise regression we were able to rule out what we believed were arbitrary dimensions from our data set. We discarded any attributes with a p-value higher than 0.05, as per our readings from M4, A9 suggested.\n",
    " \n",
    "We didn’t achieve a very good variance score from our two best principal components (a combined ratio of about 58%), and our SVM classifier was only able to derive a score of 0.06 (6%). Nevertheless, we ran our 10-fold cross validated linear regression, and came up with an R^2 of 3% which means that the variables selected by PCA were not predictive of our response variable."
   ]
  },
  {
   "cell_type": "code",
   "execution_count": null,
   "metadata": {},
   "outputs": [],
   "source": []
  }
 ],
 "metadata": {
  "kernelspec": {
   "display_name": "Python 3",
   "language": "python",
   "name": "python3"
  },
  "language_info": {
   "codemirror_mode": {
    "name": "ipython",
    "version": 3
   },
   "file_extension": ".py",
   "mimetype": "text/x-python",
   "name": "python",
   "nbconvert_exporter": "python",
   "pygments_lexer": "ipython3",
   "version": "3.8.5"
  }
 },
 "nbformat": 4,
 "nbformat_minor": 2
}
